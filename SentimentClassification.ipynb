{
  "nbformat": 4,
  "nbformat_minor": 0,
  "metadata": {
    "accelerator": "GPU",
    "colab": {
      "name": "Assignment2_SentimentClassification.ipynb",
      "provenance": [],
      "collapsed_sections": [],
      "toc_visible": true
    },
    "kernelspec": {
      "display_name": "Python 3",
      "language": "python",
      "name": "python3"
    },
    "language_info": {
      "codemirror_mode": {
        "name": "ipython",
        "version": 3
      },
      "file_extension": ".py",
      "mimetype": "text/x-python",
      "name": "python",
      "nbconvert_exporter": "python",
      "pygments_lexer": "ipython3",
      "version": "3.7.9"
    }
  },
  "cells": [
    {
      "cell_type": "markdown",
      "metadata": {
        "id": "YYmrD56hSqku"
      },
      "source": [
        "# Preparing Environment\n",
        "* We'll prepare our environment in this section, we'll import libraries and the data we'll use."
      ]
    },
    {
      "cell_type": "code",
      "metadata": {
        "id": "ZY7lxLcWSqkv"
      },
      "source": [
        "import numpy as np # linear algebra\n",
        "import pandas as pd # data processing, CSV file I/O (e.g. pd.read_csv)\n",
        "import re\n",
        "import time\n",
        "import random\n",
        "\n",
        "import matplotlib.pyplot as plt\n",
        "import seaborn as sns\n",
        "\n",
        "from sklearn.model_selection import train_test_split\n",
        "from sklearn.metrics import confusion_matrix,accuracy_score\n",
        "\n",
        "import tensorflow as tf\n",
        "from tensorflow import keras\n",
        "from tensorflow.keras import layers\n",
        "from tensorflow.keras.preprocessing.text import Tokenizer\n",
        "from tensorflow.keras.preprocessing.sequence import pad_sequences \n",
        "from tensorflow.compat.v1.keras.layers import CuDNNGRU\n",
        "from tensorflow.keras.callbacks import TensorBoard\n",
        "import tensorflow.keras.callbacks as callbacks\n",
        "from keras.wrappers.scikit_learn import KerasClassifier\n",
        "from sklearn.model_selection import GridSearchCV\n",
        "from sklearn.model_selection import RandomizedSearchCV\n",
        "\n",
        "import warnings as wrn\n",
        "wrn.filterwarnings('ignore')\n",
        "\n",
        "import os"
      ],
      "execution_count": null,
      "outputs": []
    },
    {
      "cell_type": "code",
      "metadata": {
        "id": "dsJuMKdsSqkw",
        "colab": {
          "base_uri": "https://localhost:8080/"
        },
        "outputId": "fd451c60-2552-47b3-f52a-4d008a389682"
      },
      "source": [
        "! gdown --id 1Fc_ZnsIYbY8JIUYl57fqeYRawhL9YJeA #train.csv\n",
        "\n",
        "tf.random.set_seed(2021)\n",
        "train_set = pd.read_csv(\"train.csv\")"
      ],
      "execution_count": null,
      "outputs": [
        {
          "output_type": "stream",
          "name": "stdout",
          "text": [
            "Downloading...\n",
            "From: https://drive.google.com/uc?id=1Fc_ZnsIYbY8JIUYl57fqeYRawhL9YJeA\n",
            "To: /content/train.csv\n",
            "\r  0% 0.00/14.0M [00:00<?, ?B/s]\r100% 14.0M/14.0M [00:00<00:00, 124MB/s]\n"
          ]
        }
      ]
    },
    {
      "cell_type": "code",
      "metadata": {
        "id": "DAoV8SwYSqkx",
        "colab": {
          "base_uri": "https://localhost:8080/",
          "height": 292
        },
        "outputId": "7fc74bed-681b-4d4b-f629-718c97aa8e6f"
      },
      "source": [
        "train_set.head()"
      ],
      "execution_count": null,
      "outputs": [
        {
          "output_type": "execute_result",
          "data": {
            "text/html": [
              "<div>\n",
              "<style scoped>\n",
              "    .dataframe tbody tr th:only-of-type {\n",
              "        vertical-align: middle;\n",
              "    }\n",
              "\n",
              "    .dataframe tbody tr th {\n",
              "        vertical-align: top;\n",
              "    }\n",
              "\n",
              "    .dataframe thead th {\n",
              "        text-align: right;\n",
              "    }\n",
              "</style>\n",
              "<table border=\"1\" class=\"dataframe\">\n",
              "  <thead>\n",
              "    <tr style=\"text-align: right;\">\n",
              "      <th></th>\n",
              "      <th>review_id</th>\n",
              "      <th>title</th>\n",
              "      <th>year</th>\n",
              "      <th>user_review</th>\n",
              "      <th>user_suggestion</th>\n",
              "    </tr>\n",
              "  </thead>\n",
              "  <tbody>\n",
              "    <tr>\n",
              "      <th>0</th>\n",
              "      <td>1</td>\n",
              "      <td>Spooky's Jump Scare Mansion</td>\n",
              "      <td>2016.0</td>\n",
              "      <td>I'm scared and hearing creepy voices.  So I'll...</td>\n",
              "      <td>1</td>\n",
              "    </tr>\n",
              "    <tr>\n",
              "      <th>1</th>\n",
              "      <td>2</td>\n",
              "      <td>Spooky's Jump Scare Mansion</td>\n",
              "      <td>2016.0</td>\n",
              "      <td>Best game, more better than Sam Pepper's YouTu...</td>\n",
              "      <td>1</td>\n",
              "    </tr>\n",
              "    <tr>\n",
              "      <th>2</th>\n",
              "      <td>3</td>\n",
              "      <td>Spooky's Jump Scare Mansion</td>\n",
              "      <td>2016.0</td>\n",
              "      <td>A littly iffy on the controls, but once you kn...</td>\n",
              "      <td>1</td>\n",
              "    </tr>\n",
              "    <tr>\n",
              "      <th>3</th>\n",
              "      <td>4</td>\n",
              "      <td>Spooky's Jump Scare Mansion</td>\n",
              "      <td>2015.0</td>\n",
              "      <td>Great game, fun and colorful and all that.A si...</td>\n",
              "      <td>1</td>\n",
              "    </tr>\n",
              "    <tr>\n",
              "      <th>4</th>\n",
              "      <td>5</td>\n",
              "      <td>Spooky's Jump Scare Mansion</td>\n",
              "      <td>2015.0</td>\n",
              "      <td>Not many games have the cute tag right next to...</td>\n",
              "      <td>1</td>\n",
              "    </tr>\n",
              "  </tbody>\n",
              "</table>\n",
              "</div>"
            ],
            "text/plain": [
              "   review_id  ... user_suggestion\n",
              "0          1  ...               1\n",
              "1          2  ...               1\n",
              "2          3  ...               1\n",
              "3          4  ...               1\n",
              "4          5  ...               1\n",
              "\n",
              "[5 rows x 5 columns]"
            ]
          },
          "metadata": {},
          "execution_count": 4
        }
      ]
    },
    {
      "cell_type": "markdown",
      "metadata": {
        "id": "be5d8PG0Sqk1"
      },
      "source": [
        "### Step 1: Cleaning and Extracting The Required Data\n",
        "Extracting the useful rows for training the model.  The actual user review and the recommended or not recommended indicator."
      ]
    },
    {
      "cell_type": "code",
      "metadata": {
        "id": "qi22cHe4Sqk1"
      },
      "source": [
        "x = train_set[\"user_review\"]\n",
        "y = train_set[\"user_suggestion\"]"
      ],
      "execution_count": null,
      "outputs": []
    },
    {
      "cell_type": "code",
      "metadata": {
        "id": "P6Y5kJRbSqk1"
      },
      "source": [
        "def cleanTexts(texts):\n",
        "    cleaned = []\n",
        "    pattern = \"[^a-zA-Z0-9]\"\n",
        "    for text in texts:\n",
        "        clrd = re.sub(pattern,\" \",text).lower().strip()\n",
        "        cleaned.append(clrd)\n",
        "    return cleaned"
      ],
      "execution_count": null,
      "outputs": []
    },
    {
      "cell_type": "code",
      "metadata": {
        "id": "SdN1hAd6Sqk2"
      },
      "source": [
        "x_cleaned = cleanTexts(x)"
      ],
      "execution_count": null,
      "outputs": []
    },
    {
      "cell_type": "markdown",
      "metadata": {
        "id": "hn0hFfDfSqk3"
      },
      "source": [
        "### Step 2: Tokenizing and Padding Data"
      ]
    },
    {
      "cell_type": "code",
      "metadata": {
        "id": "Bh1byLbuSqk3"
      },
      "source": [
        "tokenizer = Tokenizer(num_words=6500)\n",
        "tokenizer.fit_on_texts(x_cleaned)\n",
        "x_tokens = tokenizer.texts_to_sequences(x_cleaned)"
      ],
      "execution_count": null,
      "outputs": []
    },
    {
      "cell_type": "code",
      "metadata": {
        "id": "waMicKr1Sqk4"
      },
      "source": [
        "len_arr = [len(s) for s in x_tokens]\n",
        "MAX_LEN = int(np.percentile(len_arr,.8))"
      ],
      "execution_count": null,
      "outputs": []
    },
    {
      "cell_type": "code",
      "metadata": {
        "id": "91PMnnqtSqk4",
        "colab": {
          "base_uri": "https://localhost:8080/"
        },
        "outputId": "fe98c9f5-6bb2-45ad-cb10-c02525d2bf9c"
      },
      "source": [
        "print(MAX_LEN)"
      ],
      "execution_count": null,
      "outputs": [
        {
          "output_type": "stream",
          "name": "stdout",
          "text": [
            "15\n"
          ]
        }
      ]
    },
    {
      "cell_type": "code",
      "metadata": {
        "id": "el7pgI5ZXPzg"
      },
      "source": [
        "x_tokens_pad = pad_sequences(x_tokens,maxlen=MAX_LEN)"
      ],
      "execution_count": null,
      "outputs": []
    },
    {
      "cell_type": "markdown",
      "metadata": {
        "id": "MqQOHpMTSqk5"
      },
      "source": [
        "### Step 3: Train Test Splitting\n",
        "In this section we'll split our set into train and test. The random_state is used for reproducibility."
      ]
    },
    {
      "cell_type": "code",
      "metadata": {
        "id": "3WPhXsK8Sqk5"
      },
      "source": [
        "x_train,x_test,y_train,y_test = train_test_split(x_tokens_pad,np.asarray(y),test_size=0.1,random_state=42)"
      ],
      "execution_count": null,
      "outputs": []
    },
    {
      "cell_type": "code",
      "metadata": {
        "id": "Al4kQCF1Sqk5",
        "colab": {
          "base_uri": "https://localhost:8080/"
        },
        "outputId": "98dad8b7-3115-486d-9908-0031e7243f42"
      },
      "source": [
        "print(x_train.shape)\n",
        "print(x_test.shape)\n",
        "print(y_train.shape)\n",
        "print(y_test.shape)"
      ],
      "execution_count": null,
      "outputs": [
        {
          "output_type": "stream",
          "name": "stdout",
          "text": [
            "(15744, 15)\n",
            "(1750, 15)\n",
            "(15744,)\n",
            "(1750,)\n"
          ]
        }
      ]
    },
    {
      "cell_type": "markdown",
      "metadata": {
        "id": "Z1iJ0hkgGoQz"
      },
      "source": [
        "# Function definition to vary parameters in model build"
      ]
    },
    {
      "cell_type": "code",
      "metadata": {
        "id": "ykySFaYqGmzf"
      },
      "source": [
        "VOCAB_SIZE = len(tokenizer.word_index) + 1\n",
        "# We've added 1 because of padding\n",
        "\n",
        "# Each world will be 50D vector.\n",
        "VECTOR_SIZE = 50\n",
        "def buildModel_varyparams(MAX_LEN,dropoutval,activation_func,learningrate,num_neurons1,num_neurons2):\n",
        "    \n",
        "    model = keras.Sequential()\n",
        "    model.add(layers.Embedding(input_dim=VOCAB_SIZE,\n",
        "                                output_dim=VECTOR_SIZE,\n",
        "                                input_length=MAX_LEN\n",
        "                              ))\n",
        "    model.add(layers.Dropout(dropoutval))\n",
        "    model.add(layers.LSTM(num_neurons1, return_sequences=True)) #was 256\n",
        "    model.add(layers.LSTM(num_neurons2, return_sequences=True)) #was 512\n",
        "    model.add(layers.LSTM(num_neurons2, return_sequences=True)) #was 512\n",
        "    model.add(layers.LSTM(num_neurons2, return_sequences=False)) #was 512\n",
        "    model.add(layers.Dense(1,activation=activation_func)) #was sigmoid\n",
        "    \n",
        "    opt = keras.optimizers.Adam(learning_rate=learningrate) #was 0.001\n",
        "    model.compile(optimizer=opt,loss=\"binary_crossentropy\",metrics=[\"accuracy\"])\n",
        "    return model\n"
      ],
      "execution_count": null,
      "outputs": []
    },
    {
      "cell_type": "markdown",
      "metadata": {
        "id": "_EjaW7J6JSfq"
      },
      "source": [
        "Creating the parameter grid to be used in Grid and Randomized Search.\n",
        "\n",
        "Due to the issues mentioned in the report these sections are commented out but kept to show the intended work"
      ]
    },
    {
      "cell_type": "code",
      "metadata": {
        "id": "GN6CFgZGlMYd"
      },
      "source": [
        "# param_grid = {\n",
        "#     'dropoutval': [0.6, 0.7, 0.8, 0.9],\n",
        "#     'activation_func': [\"sigmoid\", \"relu\"],\n",
        "#     'learningrate': [0.1, 0.01, 0.001],\n",
        "#     'neurons1': [64, 128, 256, 512]\n",
        "# }"
      ],
      "execution_count": null,
      "outputs": []
    },
    {
      "cell_type": "markdown",
      "metadata": {
        "id": "fR1nLlcoJa1H"
      },
      "source": [
        "Executing the Model creation and Randomized Search (Grid Search before changes) "
      ]
    },
    {
      "cell_type": "code",
      "metadata": {
        "id": "-bOGKwkdsTYI"
      },
      "source": [
        "# model = KerasClassifier(build_fn = buildModel_varyparams, epochs=15, verbose=0)\n",
        "# random = RandomizedSearchCV(model, param_grid, n_iter = 30, n_jobs=-1, cv=3)\n",
        "# random_result = random.fit(x_train, y_train)"
      ],
      "execution_count": null,
      "outputs": []
    },
    {
      "cell_type": "markdown",
      "metadata": {
        "id": "3IuL8Q1sJiW2"
      },
      "source": [
        "Outputting the Results of the Randomized Search in a readable layout"
      ]
    },
    {
      "cell_type": "code",
      "metadata": {
        "id": "r0AWU_dqtnmL"
      },
      "source": [
        "# print(\"Best: %f using %s\" % (random_result.best_score_, random_result.best_params_))\n",
        "# means = random_result.cv_results_['mean_test_score']\n",
        "# stds = random_result.cv_results_['std_test_score']\n",
        "# params = random_result.cv_results_['params']\n",
        "# for mean, stdev, param in zip(means, stds, params):\n",
        "#     print(\"%f (%f) with: %r\" % (mean, stdev, param))"
      ],
      "execution_count": null,
      "outputs": []
    },
    {
      "cell_type": "markdown",
      "metadata": {
        "id": "gPOd4_kpNmVD"
      },
      "source": [
        "#Neuron Count Layer 1\n",
        "Vary the number of neurons in the first LSTM layer"
      ]
    },
    {
      "cell_type": "code",
      "metadata": {
        "id": "8Fw8_yyONr-v",
        "colab": {
          "base_uri": "https://localhost:8080/"
        },
        "outputId": "c3c732c1-24d7-4ec4-8a06-6ace2d7b59de"
      },
      "source": [
        "val=0\n",
        "num_neurons1 = [32,64,128,256,512]\n",
        "final_val_losses = []\n",
        "final_val_accs = []\n",
        "\n",
        "for i in range(0,5):\n",
        "    print(i)\n",
        "    model = buildModel_varyparams(MAX_LEN,dropoutval=val,activation_func=\"sigmoid\",learningrate=0.001,num_neurons1=num_neurons1[i], num_neurons2=512)\n",
        "    history = model.fit(x_train,y_train,epochs=15,validation_split=0.3) \n",
        "    final_val_losses.append(history.history['val_loss'][14])\n",
        "    final_val_accs.append(history.history['val_accuracy'][14])"
      ],
      "execution_count": null,
      "outputs": [
        {
          "output_type": "stream",
          "name": "stdout",
          "text": [
            "0\n",
            "Epoch 1/15\n",
            "345/345 [==============================] - 29s 49ms/step - loss: 0.5995 - accuracy: 0.6709 - val_loss: 0.5384 - val_accuracy: 0.7254\n",
            "Epoch 2/15\n",
            "345/345 [==============================] - 15s 43ms/step - loss: 0.4488 - accuracy: 0.7907 - val_loss: 0.5487 - val_accuracy: 0.7278\n",
            "Epoch 3/15\n",
            "345/345 [==============================] - 15s 43ms/step - loss: 0.3694 - accuracy: 0.8336 - val_loss: 0.6665 - val_accuracy: 0.7254\n",
            "Epoch 4/15\n",
            "345/345 [==============================] - 15s 43ms/step - loss: 0.2910 - accuracy: 0.8781 - val_loss: 0.6441 - val_accuracy: 0.7191\n",
            "Epoch 5/15\n",
            "345/345 [==============================] - 15s 43ms/step - loss: 0.2192 - accuracy: 0.9114 - val_loss: 0.8058 - val_accuracy: 0.7011\n",
            "Epoch 6/15\n",
            "345/345 [==============================] - 15s 43ms/step - loss: 0.1635 - accuracy: 0.9338 - val_loss: 0.9554 - val_accuracy: 0.7007\n",
            "Epoch 7/15\n",
            "345/345 [==============================] - 15s 43ms/step - loss: 0.1241 - accuracy: 0.9509 - val_loss: 1.2193 - val_accuracy: 0.6950\n",
            "Epoch 8/15\n",
            "345/345 [==============================] - 15s 43ms/step - loss: 0.0945 - accuracy: 0.9648 - val_loss: 1.3306 - val_accuracy: 0.6971\n",
            "Epoch 9/15\n",
            "345/345 [==============================] - 15s 43ms/step - loss: 0.0721 - accuracy: 0.9755 - val_loss: 1.5150 - val_accuracy: 0.6844\n",
            "Epoch 10/15\n",
            "345/345 [==============================] - 15s 44ms/step - loss: 0.0593 - accuracy: 0.9797 - val_loss: 1.3727 - val_accuracy: 0.6856\n",
            "Epoch 11/15\n",
            "345/345 [==============================] - 15s 43ms/step - loss: 0.0489 - accuracy: 0.9843 - val_loss: 1.4927 - val_accuracy: 0.6873\n",
            "Epoch 12/15\n",
            "345/345 [==============================] - 15s 43ms/step - loss: 0.0419 - accuracy: 0.9858 - val_loss: 1.6598 - val_accuracy: 0.6861\n",
            "Epoch 13/15\n",
            "345/345 [==============================] - 15s 43ms/step - loss: 0.0386 - accuracy: 0.9869 - val_loss: 1.5264 - val_accuracy: 0.6835\n",
            "Epoch 14/15\n",
            "345/345 [==============================] - 15s 43ms/step - loss: 0.0287 - accuracy: 0.9917 - val_loss: 1.7764 - val_accuracy: 0.6880\n",
            "Epoch 15/15\n",
            "345/345 [==============================] - 15s 43ms/step - loss: 0.0302 - accuracy: 0.9902 - val_loss: 1.6283 - val_accuracy: 0.6871\n",
            "1\n",
            "Epoch 1/15\n",
            "345/345 [==============================] - 24s 49ms/step - loss: 0.6046 - accuracy: 0.6644 - val_loss: 0.5404 - val_accuracy: 0.7246\n",
            "Epoch 2/15\n",
            "345/345 [==============================] - 15s 44ms/step - loss: 0.4508 - accuracy: 0.7898 - val_loss: 0.5521 - val_accuracy: 0.7273\n",
            "Epoch 3/15\n",
            "345/345 [==============================] - 15s 44ms/step - loss: 0.3748 - accuracy: 0.8319 - val_loss: 0.6374 - val_accuracy: 0.7250\n",
            "Epoch 4/15\n",
            "345/345 [==============================] - 15s 44ms/step - loss: 0.3036 - accuracy: 0.8721 - val_loss: 0.6178 - val_accuracy: 0.7221\n",
            "Epoch 5/15\n",
            "345/345 [==============================] - 15s 44ms/step - loss: 0.2375 - accuracy: 0.9013 - val_loss: 0.7144 - val_accuracy: 0.7125\n",
            "Epoch 6/15\n",
            "345/345 [==============================] - 15s 43ms/step - loss: 0.1865 - accuracy: 0.9270 - val_loss: 0.8070 - val_accuracy: 0.7051\n",
            "Epoch 7/15\n",
            "345/345 [==============================] - 15s 44ms/step - loss: 0.1493 - accuracy: 0.9448 - val_loss: 0.9461 - val_accuracy: 0.7096\n",
            "Epoch 8/15\n",
            "345/345 [==============================] - 15s 44ms/step - loss: 0.1336 - accuracy: 0.9488 - val_loss: 1.2457 - val_accuracy: 0.6986\n",
            "Epoch 9/15\n",
            "345/345 [==============================] - 15s 44ms/step - loss: 0.0920 - accuracy: 0.9685 - val_loss: 1.1668 - val_accuracy: 0.6863\n",
            "Epoch 10/15\n",
            "345/345 [==============================] - 15s 44ms/step - loss: 0.0895 - accuracy: 0.9663 - val_loss: 1.3028 - val_accuracy: 0.6882\n",
            "Epoch 11/15\n",
            "345/345 [==============================] - 15s 44ms/step - loss: 0.0583 - accuracy: 0.9805 - val_loss: 1.4956 - val_accuracy: 0.6969\n",
            "Epoch 12/15\n",
            "345/345 [==============================] - 15s 44ms/step - loss: 0.0458 - accuracy: 0.9840 - val_loss: 1.5743 - val_accuracy: 0.6820\n",
            "Epoch 13/15\n",
            "345/345 [==============================] - 15s 44ms/step - loss: 0.0420 - accuracy: 0.9860 - val_loss: 1.5405 - val_accuracy: 0.6778\n",
            "Epoch 14/15\n",
            "345/345 [==============================] - 15s 44ms/step - loss: 0.0418 - accuracy: 0.9848 - val_loss: 1.5201 - val_accuracy: 0.6892\n",
            "Epoch 15/15\n",
            "345/345 [==============================] - 15s 44ms/step - loss: 0.0365 - accuracy: 0.9885 - val_loss: 1.5357 - val_accuracy: 0.6812\n",
            "2\n",
            "Epoch 1/15\n",
            "345/345 [==============================] - 25s 50ms/step - loss: 0.6009 - accuracy: 0.6733 - val_loss: 0.5397 - val_accuracy: 0.7278\n",
            "Epoch 2/15\n",
            "345/345 [==============================] - 15s 44ms/step - loss: 0.4527 - accuracy: 0.7901 - val_loss: 0.5470 - val_accuracy: 0.7324\n",
            "Epoch 3/15\n",
            "345/345 [==============================] - 15s 45ms/step - loss: 0.3848 - accuracy: 0.8279 - val_loss: 0.6464 - val_accuracy: 0.7225\n",
            "Epoch 4/15\n",
            "345/345 [==============================] - 15s 44ms/step - loss: 0.3102 - accuracy: 0.8702 - val_loss: 0.6194 - val_accuracy: 0.7199\n",
            "Epoch 5/15\n",
            "345/345 [==============================] - 15s 44ms/step - loss: 0.2389 - accuracy: 0.9039 - val_loss: 0.7938 - val_accuracy: 0.7130\n",
            "Epoch 6/15\n",
            "345/345 [==============================] - 15s 44ms/step - loss: 0.1794 - accuracy: 0.9312 - val_loss: 0.8441 - val_accuracy: 0.7030\n",
            "Epoch 7/15\n",
            "345/345 [==============================] - 15s 44ms/step - loss: 0.1399 - accuracy: 0.9473 - val_loss: 0.9661 - val_accuracy: 0.7009\n",
            "Epoch 8/15\n",
            "345/345 [==============================] - 15s 45ms/step - loss: 0.1124 - accuracy: 0.9581 - val_loss: 1.0438 - val_accuracy: 0.7060\n",
            "Epoch 9/15\n",
            "345/345 [==============================] - 15s 45ms/step - loss: 0.0767 - accuracy: 0.9724 - val_loss: 1.2798 - val_accuracy: 0.6897\n",
            "Epoch 10/15\n",
            "345/345 [==============================] - 15s 45ms/step - loss: 0.0624 - accuracy: 0.9787 - val_loss: 1.3674 - val_accuracy: 0.7000\n",
            "Epoch 11/15\n",
            "345/345 [==============================] - 15s 44ms/step - loss: 0.0482 - accuracy: 0.9839 - val_loss: 1.5719 - val_accuracy: 0.6916\n",
            "Epoch 12/15\n",
            "345/345 [==============================] - 15s 44ms/step - loss: 0.0475 - accuracy: 0.9839 - val_loss: 1.5870 - val_accuracy: 0.6962\n",
            "Epoch 13/15\n",
            "345/345 [==============================] - 15s 44ms/step - loss: 0.0393 - accuracy: 0.9854 - val_loss: 1.4382 - val_accuracy: 0.6835\n",
            "Epoch 14/15\n",
            "345/345 [==============================] - 15s 44ms/step - loss: 0.0323 - accuracy: 0.9896 - val_loss: 1.6495 - val_accuracy: 0.6846\n",
            "Epoch 15/15\n",
            "345/345 [==============================] - 15s 44ms/step - loss: 0.0248 - accuracy: 0.9919 - val_loss: 1.7970 - val_accuracy: 0.6884\n",
            "3\n",
            "Epoch 1/15\n",
            "345/345 [==============================] - 25s 54ms/step - loss: 0.6066 - accuracy: 0.6643 - val_loss: 0.5399 - val_accuracy: 0.7290\n",
            "Epoch 2/15\n",
            "345/345 [==============================] - 16s 47ms/step - loss: 0.4545 - accuracy: 0.7902 - val_loss: 0.5404 - val_accuracy: 0.7293\n",
            "Epoch 3/15\n",
            "345/345 [==============================] - 16s 47ms/step - loss: 0.3819 - accuracy: 0.8327 - val_loss: 0.6263 - val_accuracy: 0.7202\n",
            "Epoch 4/15\n",
            "345/345 [==============================] - 16s 47ms/step - loss: 0.3085 - accuracy: 0.8721 - val_loss: 0.6144 - val_accuracy: 0.7233\n",
            "Epoch 5/15\n",
            "345/345 [==============================] - 16s 47ms/step - loss: 0.2365 - accuracy: 0.9091 - val_loss: 0.7517 - val_accuracy: 0.7062\n",
            "Epoch 6/15\n",
            "345/345 [==============================] - 16s 47ms/step - loss: 0.1874 - accuracy: 0.9286 - val_loss: 0.7586 - val_accuracy: 0.6998\n",
            "Epoch 7/15\n",
            "345/345 [==============================] - 16s 47ms/step - loss: 0.1459 - accuracy: 0.9458 - val_loss: 1.0656 - val_accuracy: 0.7005\n",
            "Epoch 8/15\n",
            "345/345 [==============================] - 16s 47ms/step - loss: 0.1110 - accuracy: 0.9615 - val_loss: 1.0900 - val_accuracy: 0.7009\n",
            "Epoch 9/15\n",
            "345/345 [==============================] - 16s 46ms/step - loss: 0.0843 - accuracy: 0.9704 - val_loss: 1.3690 - val_accuracy: 0.6797\n",
            "Epoch 10/15\n",
            "345/345 [==============================] - 16s 47ms/step - loss: 0.0691 - accuracy: 0.9769 - val_loss: 1.5063 - val_accuracy: 0.6916\n",
            "Epoch 11/15\n",
            "345/345 [==============================] - 16s 47ms/step - loss: 0.0564 - accuracy: 0.9806 - val_loss: 1.5497 - val_accuracy: 0.6903\n",
            "Epoch 12/15\n",
            "345/345 [==============================] - 16s 46ms/step - loss: 0.0445 - accuracy: 0.9858 - val_loss: 1.6595 - val_accuracy: 0.6848\n",
            "Epoch 13/15\n",
            "345/345 [==============================] - 16s 46ms/step - loss: 0.0461 - accuracy: 0.9828 - val_loss: 1.5666 - val_accuracy: 0.6823\n",
            "Epoch 14/15\n",
            "345/345 [==============================] - 16s 47ms/step - loss: 0.0385 - accuracy: 0.9878 - val_loss: 1.4834 - val_accuracy: 0.6922\n",
            "Epoch 15/15\n",
            "345/345 [==============================] - 16s 47ms/step - loss: 0.0315 - accuracy: 0.9888 - val_loss: 1.8581 - val_accuracy: 0.6840\n",
            "4\n",
            "Epoch 1/15\n",
            "345/345 [==============================] - 27s 58ms/step - loss: 0.6103 - accuracy: 0.6633 - val_loss: 0.5533 - val_accuracy: 0.7159\n",
            "Epoch 2/15\n",
            "345/345 [==============================] - 18s 52ms/step - loss: 0.4570 - accuracy: 0.7855 - val_loss: 0.5388 - val_accuracy: 0.7271\n",
            "Epoch 3/15\n",
            "345/345 [==============================] - 18s 52ms/step - loss: 0.3863 - accuracy: 0.8300 - val_loss: 0.5976 - val_accuracy: 0.7265\n",
            "Epoch 4/15\n",
            "345/345 [==============================] - 18s 52ms/step - loss: 0.3129 - accuracy: 0.8693 - val_loss: 0.6081 - val_accuracy: 0.7229\n",
            "Epoch 5/15\n",
            "345/345 [==============================] - 18s 52ms/step - loss: 0.2438 - accuracy: 0.9051 - val_loss: 0.7190 - val_accuracy: 0.7102\n",
            "Epoch 6/15\n",
            "345/345 [==============================] - 18s 52ms/step - loss: 0.1858 - accuracy: 0.9289 - val_loss: 0.7554 - val_accuracy: 0.7028\n",
            "Epoch 7/15\n",
            "345/345 [==============================] - 18s 52ms/step - loss: 0.1411 - accuracy: 0.9490 - val_loss: 0.9883 - val_accuracy: 0.7049\n",
            "Epoch 8/15\n",
            "345/345 [==============================] - 18s 51ms/step - loss: 0.1069 - accuracy: 0.9617 - val_loss: 1.0839 - val_accuracy: 0.6935\n",
            "Epoch 9/15\n",
            "345/345 [==============================] - 18s 51ms/step - loss: 0.0856 - accuracy: 0.9699 - val_loss: 1.2108 - val_accuracy: 0.6823\n",
            "Epoch 10/15\n",
            "345/345 [==============================] - 18s 51ms/step - loss: 0.0753 - accuracy: 0.9732 - val_loss: 1.3983 - val_accuracy: 0.6865\n",
            "Epoch 11/15\n",
            "345/345 [==============================] - 18s 51ms/step - loss: 0.0561 - accuracy: 0.9794 - val_loss: 1.3467 - val_accuracy: 0.6901\n",
            "Epoch 12/15\n",
            "345/345 [==============================] - 18s 51ms/step - loss: 0.0470 - accuracy: 0.9831 - val_loss: 1.7242 - val_accuracy: 0.6829\n",
            "Epoch 13/15\n",
            "345/345 [==============================] - 18s 52ms/step - loss: 0.0411 - accuracy: 0.9848 - val_loss: 1.4755 - val_accuracy: 0.6776\n",
            "Epoch 14/15\n",
            "345/345 [==============================] - 18s 51ms/step - loss: 0.0358 - accuracy: 0.9868 - val_loss: 1.5503 - val_accuracy: 0.6846\n",
            "Epoch 15/15\n",
            "345/345 [==============================] - 18s 52ms/step - loss: 0.0300 - accuracy: 0.9906 - val_loss: 1.5149 - val_accuracy: 0.6933\n"
          ]
        }
      ]
    },
    {
      "cell_type": "markdown",
      "metadata": {
        "id": "-QaNnAVZNwlr"
      },
      "source": [
        "#Neuron Count Layer 1 Plots"
      ]
    },
    {
      "cell_type": "code",
      "metadata": {
        "id": "E11oLLOxN0YF",
        "colab": {
          "base_uri": "https://localhost:8080/",
          "height": 298
        },
        "outputId": "4d5e6391-d356-4ea8-ec28-a5b4357cfc39"
      },
      "source": [
        "plt.plot(num_neurons1,final_val_losses,'ro-',label=\"final validation loss\")\n",
        "plt.plot(num_neurons1,final_val_accs,'bo-',label='final validation accuracy')\n",
        "plt.title(\"validation accuracy and validation loss as a function of Number of neurons in first LSTM layer\")\n",
        "plt.legend()\n",
        "plt.show()\n",
        "\n",
        "bestnumneurons1 = num_neurons1[int(np.where(final_val_losses==np.min(final_val_losses))[0])]\n",
        "print(bestnumneurons1)"
      ],
      "execution_count": null,
      "outputs": [
        {
          "output_type": "display_data",
          "data": {
            "image/png": "[encoded data removed]",
            "text/plain": [
              "<Figure size 432x288 with 1 Axes>"
            ]
          },
          "metadata": {
            "needs_background": "light"
          }
        },
        {
          "output_type": "stream",
          "name": "stdout",
          "text": [
            "512\n"
          ]
        }
      ]
    },
    {
      "cell_type": "markdown",
      "metadata": {
        "id": "fYbTZkQ2N2Zh"
      },
      "source": [
        "#Neuron Count Remaining Layers\n",
        "Varying the number of Neurons in the three remaining LSTM layers"
      ]
    },
    {
      "cell_type": "code",
      "metadata": {
        "id": "0LJwb-NSN9iL",
        "colab": {
          "base_uri": "https://localhost:8080/"
        },
        "outputId": "ca4618c1-14b5-43bb-b652-6da81c4d3e35"
      },
      "source": [
        "val = 0\n",
        "num_neurons2 = [32,64,128,256,512]\n",
        "final_val_losses = []\n",
        "final_val_accs = []\n",
        "\n",
        "for i in range(0,5):\n",
        "    print(i)\n",
        "    model = buildModel_varyparams(MAX_LEN,dropoutval=val,activation_func=\"sigmoid\",learningrate=0.001,num_neurons1=bestnumneurons1, num_neurons2=num_neurons2[i])\n",
        "    history = model.fit(x_train,y_train,epochs=15,validation_split=0.3) \n",
        "    final_val_losses.append(history.history['val_loss'][14])\n",
        "    final_val_accs.append(history.history['val_accuracy'][14])"
      ],
      "execution_count": null,
      "outputs": [
        {
          "output_type": "stream",
          "name": "stdout",
          "text": [
            "0\n",
            "Epoch 1/15\n",
            "345/345 [==============================] - 22s 44ms/step - loss: 0.6067 - accuracy: 0.6621 - val_loss: 0.5435 - val_accuracy: 0.7218\n",
            "Epoch 2/15\n",
            "345/345 [==============================] - 13s 39ms/step - loss: 0.4608 - accuracy: 0.7809 - val_loss: 0.5490 - val_accuracy: 0.7269\n",
            "Epoch 3/15\n",
            "345/345 [==============================] - 13s 39ms/step - loss: 0.3899 - accuracy: 0.8260 - val_loss: 0.6069 - val_accuracy: 0.7248\n",
            "Epoch 4/15\n",
            "345/345 [==============================] - 13s 39ms/step - loss: 0.3213 - accuracy: 0.8630 - val_loss: 0.5843 - val_accuracy: 0.7225\n",
            "Epoch 5/15\n",
            "345/345 [==============================] - 13s 39ms/step - loss: 0.2548 - accuracy: 0.8999 - val_loss: 0.7292 - val_accuracy: 0.7051\n",
            "Epoch 6/15\n",
            "345/345 [==============================] - 13s 39ms/step - loss: 0.1908 - accuracy: 0.9268 - val_loss: 0.8282 - val_accuracy: 0.7047\n",
            "Epoch 7/15\n",
            "345/345 [==============================] - 14s 39ms/step - loss: 0.1416 - accuracy: 0.9478 - val_loss: 1.0484 - val_accuracy: 0.6979\n",
            "Epoch 8/15\n",
            "345/345 [==============================] - 13s 39ms/step - loss: 0.1082 - accuracy: 0.9612 - val_loss: 1.1636 - val_accuracy: 0.7000\n",
            "Epoch 9/15\n",
            "345/345 [==============================] - 13s 39ms/step - loss: 0.0866 - accuracy: 0.9687 - val_loss: 1.2613 - val_accuracy: 0.6939\n",
            "Epoch 10/15\n",
            "345/345 [==============================] - 13s 39ms/step - loss: 0.0612 - accuracy: 0.9786 - val_loss: 1.2838 - val_accuracy: 0.6878\n",
            "Epoch 11/15\n",
            "345/345 [==============================] - 13s 39ms/step - loss: 0.0528 - accuracy: 0.9811 - val_loss: 1.4331 - val_accuracy: 0.6884\n",
            "Epoch 12/15\n",
            "345/345 [==============================] - 13s 39ms/step - loss: 0.0389 - accuracy: 0.9867 - val_loss: 1.6415 - val_accuracy: 0.6954\n",
            "Epoch 13/15\n",
            "345/345 [==============================] - 13s 39ms/step - loss: 0.0306 - accuracy: 0.9898 - val_loss: 1.5243 - val_accuracy: 0.6852\n",
            "Epoch 14/15\n",
            "345/345 [==============================] - 13s 39ms/step - loss: 0.0340 - accuracy: 0.9886 - val_loss: 1.6571 - val_accuracy: 0.6935\n",
            "Epoch 15/15\n",
            "345/345 [==============================] - 13s 39ms/step - loss: 0.0251 - accuracy: 0.9917 - val_loss: 1.6546 - val_accuracy: 0.6928\n",
            "1\n",
            "Epoch 1/15\n",
            "345/345 [==============================] - 23s 45ms/step - loss: 0.6047 - accuracy: 0.6633 - val_loss: 0.5392 - val_accuracy: 0.7225\n",
            "Epoch 2/15\n",
            "345/345 [==============================] - 14s 41ms/step - loss: 0.4572 - accuracy: 0.7846 - val_loss: 0.5504 - val_accuracy: 0.7280\n",
            "Epoch 3/15\n",
            "345/345 [==============================] - 14s 41ms/step - loss: 0.3914 - accuracy: 0.8273 - val_loss: 0.6093 - val_accuracy: 0.7329\n",
            "Epoch 4/15\n",
            "345/345 [==============================] - 14s 41ms/step - loss: 0.3265 - accuracy: 0.8607 - val_loss: 0.5829 - val_accuracy: 0.7293\n",
            "Epoch 5/15\n",
            "345/345 [==============================] - 14s 41ms/step - loss: 0.2614 - accuracy: 0.8962 - val_loss: 0.7298 - val_accuracy: 0.7077\n",
            "Epoch 6/15\n",
            "345/345 [==============================] - 14s 41ms/step - loss: 0.2020 - accuracy: 0.9240 - val_loss: 0.7278 - val_accuracy: 0.7068\n",
            "Epoch 7/15\n",
            "345/345 [==============================] - 14s 41ms/step - loss: 0.1532 - accuracy: 0.9431 - val_loss: 1.0459 - val_accuracy: 0.7039\n",
            "Epoch 8/15\n",
            "345/345 [==============================] - 14s 41ms/step - loss: 0.1179 - accuracy: 0.9568 - val_loss: 1.1427 - val_accuracy: 0.6988\n",
            "Epoch 9/15\n",
            "345/345 [==============================] - 14s 41ms/step - loss: 0.0860 - accuracy: 0.9692 - val_loss: 1.3802 - val_accuracy: 0.6844\n",
            "Epoch 10/15\n",
            "345/345 [==============================] - 14s 41ms/step - loss: 0.0723 - accuracy: 0.9741 - val_loss: 1.3378 - val_accuracy: 0.6810\n",
            "Epoch 11/15\n",
            "345/345 [==============================] - 14s 41ms/step - loss: 0.0580 - accuracy: 0.9814 - val_loss: 1.3412 - val_accuracy: 0.6909\n",
            "Epoch 12/15\n",
            "345/345 [==============================] - 14s 41ms/step - loss: 0.0386 - accuracy: 0.9873 - val_loss: 1.6242 - val_accuracy: 0.6842\n",
            "Epoch 13/15\n",
            "345/345 [==============================] - 14s 41ms/step - loss: 0.0334 - accuracy: 0.9894 - val_loss: 1.5352 - val_accuracy: 0.6905\n",
            "Epoch 14/15\n",
            "345/345 [==============================] - 14s 41ms/step - loss: 0.0326 - accuracy: 0.9895 - val_loss: 1.5893 - val_accuracy: 0.6744\n",
            "Epoch 15/15\n",
            "345/345 [==============================] - 14s 41ms/step - loss: 0.0357 - accuracy: 0.9871 - val_loss: 1.6169 - val_accuracy: 0.6933\n",
            "2\n",
            "Epoch 1/15\n",
            "345/345 [==============================] - 23s 47ms/step - loss: 0.6053 - accuracy: 0.6626 - val_loss: 0.5342 - val_accuracy: 0.7280\n",
            "Epoch 2/15\n",
            "345/345 [==============================] - 15s 43ms/step - loss: 0.4554 - accuracy: 0.7891 - val_loss: 0.5498 - val_accuracy: 0.7303\n",
            "Epoch 3/15\n",
            "345/345 [==============================] - 15s 43ms/step - loss: 0.3891 - accuracy: 0.8275 - val_loss: 0.6208 - val_accuracy: 0.7250\n",
            "Epoch 4/15\n",
            "345/345 [==============================] - 15s 43ms/step - loss: 0.3194 - accuracy: 0.8639 - val_loss: 0.5894 - val_accuracy: 0.7297\n",
            "Epoch 5/15\n",
            "345/345 [==============================] - 15s 43ms/step - loss: 0.2480 - accuracy: 0.9032 - val_loss: 0.7665 - val_accuracy: 0.7070\n",
            "Epoch 6/15\n",
            "345/345 [==============================] - 15s 43ms/step - loss: 0.1884 - accuracy: 0.9271 - val_loss: 0.7828 - val_accuracy: 0.7053\n",
            "Epoch 7/15\n",
            "345/345 [==============================] - 15s 43ms/step - loss: 0.1388 - accuracy: 0.9481 - val_loss: 0.9922 - val_accuracy: 0.7058\n",
            "Epoch 8/15\n",
            "345/345 [==============================] - 15s 42ms/step - loss: 0.1039 - accuracy: 0.9623 - val_loss: 1.1356 - val_accuracy: 0.7028\n",
            "Epoch 9/15\n",
            "345/345 [==============================] - 15s 43ms/step - loss: 0.0806 - accuracy: 0.9717 - val_loss: 1.2842 - val_accuracy: 0.6901\n",
            "Epoch 10/15\n",
            "345/345 [==============================] - 15s 43ms/step - loss: 0.0679 - accuracy: 0.9762 - val_loss: 1.3826 - val_accuracy: 0.6886\n",
            "Epoch 11/15\n",
            "345/345 [==============================] - 15s 43ms/step - loss: 0.0518 - accuracy: 0.9828 - val_loss: 1.3237 - val_accuracy: 0.6914\n",
            "Epoch 12/15\n",
            "345/345 [==============================] - 15s 43ms/step - loss: 0.0403 - accuracy: 0.9873 - val_loss: 1.4102 - val_accuracy: 0.6876\n",
            "Epoch 13/15\n",
            "345/345 [==============================] - 15s 43ms/step - loss: 0.0364 - accuracy: 0.9872 - val_loss: 1.4805 - val_accuracy: 0.6935\n",
            "Epoch 14/15\n",
            "345/345 [==============================] - 15s 43ms/step - loss: 0.0258 - accuracy: 0.9911 - val_loss: 1.7691 - val_accuracy: 0.6818\n",
            "Epoch 15/15\n",
            "345/345 [==============================] - 15s 43ms/step - loss: 0.0335 - accuracy: 0.9884 - val_loss: 1.7023 - val_accuracy: 0.6948\n",
            "3\n",
            "Epoch 1/15\n",
            "345/345 [==============================] - 22s 44ms/step - loss: 0.6128 - accuracy: 0.6560 - val_loss: 0.5360 - val_accuracy: 0.7265\n",
            "Epoch 2/15\n",
            "345/345 [==============================] - 13s 37ms/step - loss: 0.4583 - accuracy: 0.7867 - val_loss: 0.5484 - val_accuracy: 0.7252\n",
            "Epoch 3/15\n",
            "345/345 [==============================] - 13s 37ms/step - loss: 0.3938 - accuracy: 0.8261 - val_loss: 0.6296 - val_accuracy: 0.7299\n",
            "Epoch 4/15\n",
            "345/345 [==============================] - 13s 37ms/step - loss: 0.3273 - accuracy: 0.8603 - val_loss: 0.5751 - val_accuracy: 0.7324\n",
            "Epoch 5/15\n",
            "345/345 [==============================] - 13s 37ms/step - loss: 0.2598 - accuracy: 0.9005 - val_loss: 0.7175 - val_accuracy: 0.7134\n",
            "Epoch 6/15\n",
            "345/345 [==============================] - 13s 37ms/step - loss: 0.1974 - accuracy: 0.9262 - val_loss: 0.8079 - val_accuracy: 0.7045\n",
            "Epoch 7/15\n",
            "345/345 [==============================] - 13s 37ms/step - loss: 0.1556 - accuracy: 0.9443 - val_loss: 0.9399 - val_accuracy: 0.7064\n",
            "Epoch 8/15\n",
            "345/345 [==============================] - 13s 37ms/step - loss: 0.1207 - accuracy: 0.9569 - val_loss: 0.9540 - val_accuracy: 0.7015\n",
            "Epoch 9/15\n",
            "345/345 [==============================] - 13s 37ms/step - loss: 0.0934 - accuracy: 0.9683 - val_loss: 1.1983 - val_accuracy: 0.6871\n",
            "Epoch 10/15\n",
            "345/345 [==============================] - 13s 37ms/step - loss: 0.0798 - accuracy: 0.9724 - val_loss: 1.2702 - val_accuracy: 0.6895\n",
            "Epoch 11/15\n",
            "345/345 [==============================] - 13s 37ms/step - loss: 0.0573 - accuracy: 0.9813 - val_loss: 1.3643 - val_accuracy: 0.6988\n",
            "Epoch 12/15\n",
            "345/345 [==============================] - 13s 37ms/step - loss: 0.0491 - accuracy: 0.9831 - val_loss: 1.6503 - val_accuracy: 0.6787\n",
            "Epoch 13/15\n",
            "345/345 [==============================] - 13s 37ms/step - loss: 0.0422 - accuracy: 0.9849 - val_loss: 1.6996 - val_accuracy: 0.6867\n",
            "Epoch 14/15\n",
            "345/345 [==============================] - 13s 37ms/step - loss: 0.0366 - accuracy: 0.9871 - val_loss: 1.7177 - val_accuracy: 0.6916\n",
            "Epoch 15/15\n",
            "345/345 [==============================] - 13s 37ms/step - loss: 0.0325 - accuracy: 0.9887 - val_loss: 1.5591 - val_accuracy: 0.6863\n",
            "4\n",
            "Epoch 1/15\n",
            "345/345 [==============================] - 27s 57ms/step - loss: 0.6155 - accuracy: 0.6525 - val_loss: 0.5472 - val_accuracy: 0.7216\n",
            "Epoch 2/15\n",
            "345/345 [==============================] - 18s 52ms/step - loss: 0.4608 - accuracy: 0.7904 - val_loss: 0.5408 - val_accuracy: 0.7307\n",
            "Epoch 3/15\n",
            "345/345 [==============================] - 18s 51ms/step - loss: 0.3848 - accuracy: 0.8288 - val_loss: 0.6100 - val_accuracy: 0.7221\n",
            "Epoch 4/15\n",
            "345/345 [==============================] - 18s 52ms/step - loss: 0.3087 - accuracy: 0.8725 - val_loss: 0.5926 - val_accuracy: 0.7233\n",
            "Epoch 5/15\n",
            "345/345 [==============================] - 18s 52ms/step - loss: 0.2374 - accuracy: 0.9077 - val_loss: 0.7655 - val_accuracy: 0.7015\n",
            "Epoch 6/15\n",
            "345/345 [==============================] - 18s 51ms/step - loss: 0.1778 - accuracy: 0.9316 - val_loss: 0.7771 - val_accuracy: 0.6988\n",
            "Epoch 7/15\n",
            "345/345 [==============================] - 18s 52ms/step - loss: 0.1366 - accuracy: 0.9514 - val_loss: 1.0849 - val_accuracy: 0.6994\n",
            "Epoch 8/15\n",
            "345/345 [==============================] - 18s 52ms/step - loss: 0.1054 - accuracy: 0.9608 - val_loss: 1.0832 - val_accuracy: 0.6975\n",
            "Epoch 9/15\n",
            "345/345 [==============================] - 18s 52ms/step - loss: 0.0806 - accuracy: 0.9706 - val_loss: 1.2606 - val_accuracy: 0.6749\n",
            "Epoch 10/15\n",
            "345/345 [==============================] - 18s 51ms/step - loss: 0.0615 - accuracy: 0.9799 - val_loss: 1.3022 - val_accuracy: 0.6878\n",
            "Epoch 11/15\n",
            "345/345 [==============================] - 18s 51ms/step - loss: 0.0543 - accuracy: 0.9819 - val_loss: 1.3995 - val_accuracy: 0.6888\n",
            "Epoch 12/15\n",
            "345/345 [==============================] - 18s 51ms/step - loss: 0.0375 - accuracy: 0.9886 - val_loss: 1.5447 - val_accuracy: 0.6814\n",
            "Epoch 13/15\n",
            "345/345 [==============================] - 18s 52ms/step - loss: 0.0367 - accuracy: 0.9876 - val_loss: 1.5838 - val_accuracy: 0.6899\n",
            "Epoch 14/15\n",
            "345/345 [==============================] - 18s 52ms/step - loss: 0.0334 - accuracy: 0.9886 - val_loss: 1.5985 - val_accuracy: 0.6749\n",
            "Epoch 15/15\n",
            "345/345 [==============================] - 18s 51ms/step - loss: 0.0319 - accuracy: 0.9896 - val_loss: 1.5701 - val_accuracy: 0.6806\n"
          ]
        }
      ]
    },
    {
      "cell_type": "markdown",
      "metadata": {
        "id": "i90A7JEwOCtB"
      },
      "source": [
        "#Neuron Count Remaining Layers Plots"
      ]
    },
    {
      "cell_type": "code",
      "metadata": {
        "id": "yK_sSOG8OGpB",
        "colab": {
          "base_uri": "https://localhost:8080/",
          "height": 298
        },
        "outputId": "33c9704f-53fe-46e1-95b7-04a89f314197"
      },
      "source": [
        "plt.plot(num_neurons2,final_val_losses,'ro-',label=\"final validation loss\")\n",
        "plt.plot(num_neurons2,final_val_accs,'bo-',label='final validation accuracy')\n",
        "plt.title(\"validation accuracy and validation loss as a function of Number of neurons in subsequent LSTM layers\")\n",
        "plt.legend()\n",
        "plt.show()\n",
        "\n",
        "bestnumneurons2 = num_neurons1[int(np.where(final_val_losses==np.min(final_val_losses))[0])]\n",
        "print(bestnumneurons2)"
      ],
      "execution_count": null,
      "outputs": [
        {
          "output_type": "display_data",
          "data": {
            "image/png": "[encoded data removed]",
            "text/plain": [
              "<Figure size 432x288 with 1 Axes>"
            ]
          },
          "metadata": {
            "needs_background": "light"
          }
        },
        {
          "output_type": "stream",
          "name": "stdout",
          "text": [
            "256\n"
          ]
        }
      ]
    },
    {
      "cell_type": "markdown",
      "metadata": {
        "id": "Nj_Ls1k4XACO"
      },
      "source": [
        "#Train:Validation Split\n",
        "Testing for the best Train:Validation split in the data"
      ]
    },
    {
      "cell_type": "code",
      "metadata": {
        "id": "WYWu28OcXDoc",
        "colab": {
          "base_uri": "https://localhost:8080/"
        },
        "outputId": "75ccc9a4-9d3c-4e80-dd60-ec4e79e718ff"
      },
      "source": [
        "val = 0\n",
        "splits = []\n",
        "final_val_losses = []\n",
        "final_val_accs = []\n",
        "\n",
        "for i in range(1,6):\n",
        "    val = i*0.1\n",
        "    print(i)\n",
        "    splits.append(val)\n",
        "    model = buildModel_varyparams(MAX_LEN,dropoutval=val,activation_func=\"sigmoid\",learningrate=0.001,num_neurons1=bestnumneurons1, num_neurons2=bestnumneurons2)\n",
        "    history = model.fit(x_train,y_train,epochs=15,validation_split=val) \n",
        "    final_val_losses.append(history.history['val_loss'][14])\n",
        "    final_val_accs.append(history.history['val_accuracy'][14])"
      ],
      "execution_count": null,
      "outputs": [
        {
          "output_type": "stream",
          "name": "stdout",
          "text": [
            "1\n",
            "Epoch 1/15\n",
            "443/443 [==============================] - 25s 40ms/step - loss: 0.5894 - accuracy: 0.6789 - val_loss: 0.5314 - val_accuracy: 0.7302\n",
            "Epoch 2/15\n",
            "443/443 [==============================] - 15s 34ms/step - loss: 0.4624 - accuracy: 0.7848 - val_loss: 0.5277 - val_accuracy: 0.7314\n",
            "Epoch 3/15\n",
            "443/443 [==============================] - 15s 34ms/step - loss: 0.4019 - accuracy: 0.8215 - val_loss: 0.5410 - val_accuracy: 0.7397\n",
            "Epoch 4/15\n",
            "443/443 [==============================] - 15s 34ms/step - loss: 0.3403 - accuracy: 0.8603 - val_loss: 0.5638 - val_accuracy: 0.7244\n",
            "Epoch 5/15\n",
            "443/443 [==============================] - 15s 34ms/step - loss: 0.2798 - accuracy: 0.8878 - val_loss: 0.6854 - val_accuracy: 0.7162\n",
            "Epoch 6/15\n",
            "443/443 [==============================] - 15s 34ms/step - loss: 0.2257 - accuracy: 0.9092 - val_loss: 0.7642 - val_accuracy: 0.7098\n",
            "Epoch 7/15\n",
            "443/443 [==============================] - 15s 34ms/step - loss: 0.1735 - accuracy: 0.9366 - val_loss: 0.8484 - val_accuracy: 0.6978\n",
            "Epoch 8/15\n",
            "443/443 [==============================] - 15s 33ms/step - loss: 0.1453 - accuracy: 0.9447 - val_loss: 0.8882 - val_accuracy: 0.7029\n",
            "Epoch 9/15\n",
            "443/443 [==============================] - 15s 34ms/step - loss: 0.1168 - accuracy: 0.9555 - val_loss: 1.1268 - val_accuracy: 0.7181\n",
            "Epoch 10/15\n",
            "443/443 [==============================] - 15s 34ms/step - loss: 0.0955 - accuracy: 0.9653 - val_loss: 1.1076 - val_accuracy: 0.6933\n",
            "Epoch 11/15\n",
            "443/443 [==============================] - 15s 33ms/step - loss: 0.0798 - accuracy: 0.9698 - val_loss: 1.1989 - val_accuracy: 0.6863\n",
            "Epoch 12/15\n",
            "443/443 [==============================] - 15s 34ms/step - loss: 0.0644 - accuracy: 0.9769 - val_loss: 1.2051 - val_accuracy: 0.6870\n",
            "Epoch 13/15\n",
            "443/443 [==============================] - 15s 34ms/step - loss: 0.0583 - accuracy: 0.9776 - val_loss: 1.4545 - val_accuracy: 0.6959\n",
            "Epoch 14/15\n",
            "443/443 [==============================] - 15s 33ms/step - loss: 0.0516 - accuracy: 0.9821 - val_loss: 1.3418 - val_accuracy: 0.6933\n",
            "Epoch 15/15\n",
            "443/443 [==============================] - 15s 33ms/step - loss: 0.0410 - accuracy: 0.9855 - val_loss: 1.4289 - val_accuracy: 0.6902\n",
            "2\n",
            "Epoch 1/15\n",
            "394/394 [==============================] - 23s 40ms/step - loss: 0.5963 - accuracy: 0.6708 - val_loss: 0.5466 - val_accuracy: 0.7374\n",
            "Epoch 2/15\n",
            "394/394 [==============================] - 14s 35ms/step - loss: 0.4643 - accuracy: 0.7808 - val_loss: 0.5369 - val_accuracy: 0.7364\n",
            "Epoch 3/15\n",
            "394/394 [==============================] - 14s 35ms/step - loss: 0.4024 - accuracy: 0.8201 - val_loss: 0.5864 - val_accuracy: 0.7288\n",
            "Epoch 4/15\n",
            "394/394 [==============================] - 14s 35ms/step - loss: 0.3509 - accuracy: 0.8513 - val_loss: 0.5818 - val_accuracy: 0.7298\n",
            "Epoch 5/15\n",
            "394/394 [==============================] - 14s 35ms/step - loss: 0.2932 - accuracy: 0.8792 - val_loss: 0.6391 - val_accuracy: 0.7123\n",
            "Epoch 6/15\n",
            "394/394 [==============================] - 14s 35ms/step - loss: 0.2433 - accuracy: 0.9050 - val_loss: 0.7236 - val_accuracy: 0.7059\n",
            "Epoch 7/15\n",
            "394/394 [==============================] - 14s 35ms/step - loss: 0.1972 - accuracy: 0.9246 - val_loss: 0.9611 - val_accuracy: 0.7117\n",
            "Epoch 8/15\n",
            "394/394 [==============================] - 14s 35ms/step - loss: 0.1628 - accuracy: 0.9401 - val_loss: 1.0308 - val_accuracy: 0.6993\n",
            "Epoch 9/15\n",
            "394/394 [==============================] - 14s 35ms/step - loss: 0.1379 - accuracy: 0.9488 - val_loss: 0.9797 - val_accuracy: 0.6961\n",
            "Epoch 10/15\n",
            "394/394 [==============================] - 14s 35ms/step - loss: 0.1182 - accuracy: 0.9574 - val_loss: 1.1324 - val_accuracy: 0.6948\n",
            "Epoch 11/15\n",
            "394/394 [==============================] - 14s 35ms/step - loss: 0.0990 - accuracy: 0.9640 - val_loss: 1.0947 - val_accuracy: 0.6948\n",
            "Epoch 12/15\n",
            "394/394 [==============================] - 14s 35ms/step - loss: 0.0842 - accuracy: 0.9696 - val_loss: 1.2436 - val_accuracy: 0.6999\n",
            "Epoch 13/15\n",
            "394/394 [==============================] - 14s 35ms/step - loss: 0.0720 - accuracy: 0.9755 - val_loss: 1.1468 - val_accuracy: 0.6901\n",
            "Epoch 14/15\n",
            "394/394 [==============================] - 14s 35ms/step - loss: 0.0621 - accuracy: 0.9789 - val_loss: 1.4540 - val_accuracy: 0.6986\n",
            "Epoch 15/15\n",
            "394/394 [==============================] - 14s 35ms/step - loss: 0.0579 - accuracy: 0.9809 - val_loss: 1.3473 - val_accuracy: 0.6920\n",
            "3\n",
            "Epoch 1/15\n",
            "345/345 [==============================] - 22s 43ms/step - loss: 0.6096 - accuracy: 0.6642 - val_loss: 0.5386 - val_accuracy: 0.7276\n",
            "Epoch 2/15\n",
            "345/345 [==============================] - 13s 37ms/step - loss: 0.4661 - accuracy: 0.7809 - val_loss: 0.5407 - val_accuracy: 0.7273\n",
            "Epoch 3/15\n",
            "345/345 [==============================] - 13s 37ms/step - loss: 0.4064 - accuracy: 0.8179 - val_loss: 0.5874 - val_accuracy: 0.7273\n",
            "Epoch 4/15\n",
            "345/345 [==============================] - 13s 37ms/step - loss: 0.3466 - accuracy: 0.8515 - val_loss: 0.5703 - val_accuracy: 0.7333\n",
            "Epoch 5/15\n",
            "345/345 [==============================] - 13s 37ms/step - loss: 0.2926 - accuracy: 0.8828 - val_loss: 0.6602 - val_accuracy: 0.7149\n",
            "Epoch 6/15\n",
            "345/345 [==============================] - 13s 37ms/step - loss: 0.2443 - accuracy: 0.9055 - val_loss: 0.6215 - val_accuracy: 0.7110\n",
            "Epoch 7/15\n",
            "345/345 [==============================] - 13s 37ms/step - loss: 0.2092 - accuracy: 0.9184 - val_loss: 0.8561 - val_accuracy: 0.7013\n",
            "Epoch 8/15\n",
            "345/345 [==============================] - 13s 37ms/step - loss: 0.1758 - accuracy: 0.9341 - val_loss: 0.8440 - val_accuracy: 0.7108\n",
            "Epoch 9/15\n",
            "345/345 [==============================] - 13s 37ms/step - loss: 0.1475 - accuracy: 0.9442 - val_loss: 0.8935 - val_accuracy: 0.6939\n",
            "Epoch 10/15\n",
            "345/345 [==============================] - 13s 37ms/step - loss: 0.1298 - accuracy: 0.9516 - val_loss: 0.9679 - val_accuracy: 0.6960\n",
            "Epoch 11/15\n",
            "345/345 [==============================] - 13s 37ms/step - loss: 0.1084 - accuracy: 0.9599 - val_loss: 1.0868 - val_accuracy: 0.6943\n",
            "Epoch 12/15\n",
            "345/345 [==============================] - 13s 37ms/step - loss: 0.0947 - accuracy: 0.9660 - val_loss: 1.2547 - val_accuracy: 0.6971\n",
            "Epoch 13/15\n",
            "345/345 [==============================] - 13s 37ms/step - loss: 0.0899 - accuracy: 0.9671 - val_loss: 1.0700 - val_accuracy: 0.6916\n",
            "Epoch 14/15\n",
            "345/345 [==============================] - 13s 37ms/step - loss: 0.0747 - accuracy: 0.9725 - val_loss: 1.3141 - val_accuracy: 0.6903\n",
            "Epoch 15/15\n",
            "345/345 [==============================] - 13s 37ms/step - loss: 0.0646 - accuracy: 0.9753 - val_loss: 1.4261 - val_accuracy: 0.6950\n",
            "4\n",
            "Epoch 1/15\n",
            "296/296 [==============================] - 21s 46ms/step - loss: 0.6122 - accuracy: 0.6545 - val_loss: 0.5768 - val_accuracy: 0.7093\n",
            "Epoch 2/15\n",
            "296/296 [==============================] - 12s 39ms/step - loss: 0.4761 - accuracy: 0.7769 - val_loss: 0.5356 - val_accuracy: 0.7282\n",
            "Epoch 3/15\n",
            "296/296 [==============================] - 12s 39ms/step - loss: 0.4046 - accuracy: 0.8193 - val_loss: 0.5423 - val_accuracy: 0.7302\n",
            "Epoch 4/15\n",
            "296/296 [==============================] - 12s 39ms/step - loss: 0.3584 - accuracy: 0.8488 - val_loss: 0.5998 - val_accuracy: 0.7225\n",
            "Epoch 5/15\n",
            "296/296 [==============================] - 12s 39ms/step - loss: 0.3072 - accuracy: 0.8734 - val_loss: 0.6655 - val_accuracy: 0.7148\n",
            "Epoch 6/15\n",
            "296/296 [==============================] - 12s 40ms/step - loss: 0.2615 - accuracy: 0.8966 - val_loss: 0.6658 - val_accuracy: 0.7126\n",
            "Epoch 7/15\n",
            "296/296 [==============================] - 12s 40ms/step - loss: 0.2329 - accuracy: 0.9076 - val_loss: 0.7574 - val_accuracy: 0.7110\n",
            "Epoch 8/15\n",
            "296/296 [==============================] - 12s 39ms/step - loss: 0.2003 - accuracy: 0.9236 - val_loss: 0.7671 - val_accuracy: 0.7064\n",
            "Epoch 9/15\n",
            "296/296 [==============================] - 12s 39ms/step - loss: 0.1796 - accuracy: 0.9320 - val_loss: 0.8662 - val_accuracy: 0.6994\n",
            "Epoch 10/15\n",
            "296/296 [==============================] - 12s 39ms/step - loss: 0.1585 - accuracy: 0.9411 - val_loss: 0.9491 - val_accuracy: 0.6993\n",
            "Epoch 11/15\n",
            "296/296 [==============================] - 12s 39ms/step - loss: 0.1343 - accuracy: 0.9497 - val_loss: 0.9819 - val_accuracy: 0.6993\n",
            "Epoch 12/15\n",
            "296/296 [==============================] - 12s 40ms/step - loss: 0.1217 - accuracy: 0.9546 - val_loss: 0.9654 - val_accuracy: 0.6910\n",
            "Epoch 13/15\n",
            "296/296 [==============================] - 12s 39ms/step - loss: 0.1057 - accuracy: 0.9618 - val_loss: 1.2522 - val_accuracy: 0.6934\n",
            "Epoch 14/15\n",
            "296/296 [==============================] - 12s 40ms/step - loss: 0.0955 - accuracy: 0.9635 - val_loss: 1.4233 - val_accuracy: 0.6866\n",
            "Epoch 15/15\n",
            "296/296 [==============================] - 12s 40ms/step - loss: 0.0865 - accuracy: 0.9671 - val_loss: 1.4482 - val_accuracy: 0.6820\n",
            "5\n",
            "Epoch 1/15\n",
            "246/246 [==============================] - 21s 61ms/step - loss: 0.6400 - accuracy: 0.6288 - val_loss: 0.5628 - val_accuracy: 0.7068\n",
            "Epoch 2/15\n",
            "246/246 [==============================] - 11s 44ms/step - loss: 0.4992 - accuracy: 0.7652 - val_loss: 0.5355 - val_accuracy: 0.7308\n",
            "Epoch 3/15\n",
            "246/246 [==============================] - 11s 45ms/step - loss: 0.4238 - accuracy: 0.8162 - val_loss: 0.5580 - val_accuracy: 0.7316\n",
            "Epoch 4/15\n",
            "246/246 [==============================] - 11s 44ms/step - loss: 0.3686 - accuracy: 0.8412 - val_loss: 0.5807 - val_accuracy: 0.7210\n",
            "Epoch 5/15\n",
            "246/246 [==============================] - 11s 45ms/step - loss: 0.3324 - accuracy: 0.8604 - val_loss: 0.6485 - val_accuracy: 0.7217\n",
            "Epoch 6/15\n",
            "246/246 [==============================] - 11s 45ms/step - loss: 0.2919 - accuracy: 0.8815 - val_loss: 0.6584 - val_accuracy: 0.7166\n",
            "Epoch 7/15\n",
            "246/246 [==============================] - 11s 44ms/step - loss: 0.2508 - accuracy: 0.9004 - val_loss: 0.7314 - val_accuracy: 0.7107\n",
            "Epoch 8/15\n",
            "246/246 [==============================] - 11s 45ms/step - loss: 0.2264 - accuracy: 0.9118 - val_loss: 0.7505 - val_accuracy: 0.7087\n",
            "Epoch 9/15\n",
            "246/246 [==============================] - 11s 44ms/step - loss: 0.2020 - accuracy: 0.9207 - val_loss: 0.8202 - val_accuracy: 0.7052\n",
            "Epoch 10/15\n",
            "246/246 [==============================] - 11s 44ms/step - loss: 0.1815 - accuracy: 0.9304 - val_loss: 0.8243 - val_accuracy: 0.7034\n",
            "Epoch 11/15\n",
            "246/246 [==============================] - 11s 44ms/step - loss: 0.1663 - accuracy: 0.9362 - val_loss: 0.9322 - val_accuracy: 0.6992\n",
            "Epoch 12/15\n",
            "246/246 [==============================] - 11s 44ms/step - loss: 0.1408 - accuracy: 0.9461 - val_loss: 1.0442 - val_accuracy: 0.6958\n",
            "Epoch 13/15\n",
            "246/246 [==============================] - 11s 45ms/step - loss: 0.1311 - accuracy: 0.9477 - val_loss: 1.1569 - val_accuracy: 0.6917\n",
            "Epoch 14/15\n",
            "246/246 [==============================] - 11s 44ms/step - loss: 0.1240 - accuracy: 0.9516 - val_loss: 1.1825 - val_accuracy: 0.6898\n",
            "Epoch 15/15\n",
            "246/246 [==============================] - 11s 44ms/step - loss: 0.1067 - accuracy: 0.9605 - val_loss: 1.1934 - val_accuracy: 0.6930\n"
          ]
        }
      ]
    },
    {
      "cell_type": "markdown",
      "metadata": {
        "id": "_Es1CfBjXdK8"
      },
      "source": [
        "# Train:Validation Split Plots"
      ]
    },
    {
      "cell_type": "code",
      "metadata": {
        "id": "yEVKilMaXkS9",
        "colab": {
          "base_uri": "https://localhost:8080/",
          "height": 298
        },
        "outputId": "44fd97ca-8510-4460-be84-5d5840a97496"
      },
      "source": [
        "plt.plot(splits,final_val_losses,'ro-',label=\"final validation loss\")\n",
        "plt.plot(splits,final_val_accs,'bo-',label='final validation accuracy')\n",
        "plt.title(\"validation accuracy and validation loss as a function of train:validation split\")\n",
        "plt.legend()\n",
        "plt.show()\n",
        "\n",
        "bestsplit = splits[int(np.where(final_val_losses==np.min(final_val_losses))[0])]\n",
        "print(bestsplit)"
      ],
      "execution_count": null,
      "outputs": [
        {
          "output_type": "display_data",
          "data": {
            "image/png": "[encoded data removed]",
            "text/plain": [
              "<Figure size 432x288 with 1 Axes>"
            ]
          },
          "metadata": {
            "needs_background": "light"
          }
        },
        {
          "output_type": "stream",
          "name": "stdout",
          "text": [
            "0.5\n"
          ]
        }
      ]
    },
    {
      "cell_type": "markdown",
      "metadata": {
        "id": "Y9fnKIdeDPnS"
      },
      "source": [
        "# Varying Dropout"
      ]
    },
    {
      "cell_type": "code",
      "metadata": {
        "id": "75tHvVFuDGkG",
        "colab": {
          "base_uri": "https://localhost:8080/"
        },
        "outputId": "a0de4256-0213-415a-d6ad-590d8a10db36"
      },
      "source": [
        "val = 0\n",
        "vals = []\n",
        "final_val_losses = []\n",
        "final_val_accs = []\n",
        "\n",
        "for i in range(0,10):\n",
        "    val+=0.1\n",
        "    print(i)\n",
        "    vals.append(val)\n",
        "    model = buildModel_varyparams(MAX_LEN,dropoutval=val,activation_func=\"sigmoid\",learningrate=0.001,num_neurons1=bestnumneurons1, num_neurons2=bestnumneurons2)\n",
        "    history = model.fit(x_train,y_train,epochs=15,validation_split=bestsplit) \n",
        "    final_val_losses.append(history.history['val_loss'][14])\n",
        "    final_val_accs.append(history.history['val_accuracy'][14])"
      ],
      "execution_count": null,
      "outputs": [
        {
          "output_type": "stream",
          "name": "stdout",
          "text": [
            "0\n",
            "Epoch 1/15\n",
            "246/246 [==============================] - 22s 65ms/step - loss: 0.6247 - accuracy: 0.6500 - val_loss: 0.5484 - val_accuracy: 0.7129\n",
            "Epoch 2/15\n",
            "246/246 [==============================] - 11s 44ms/step - loss: 0.4673 - accuracy: 0.7839 - val_loss: 0.5430 - val_accuracy: 0.7309\n",
            "Epoch 3/15\n",
            "246/246 [==============================] - 11s 44ms/step - loss: 0.3784 - accuracy: 0.8356 - val_loss: 0.5986 - val_accuracy: 0.7237\n",
            "Epoch 4/15\n",
            "246/246 [==============================] - 11s 45ms/step - loss: 0.3055 - accuracy: 0.8746 - val_loss: 0.6501 - val_accuracy: 0.7147\n",
            "Epoch 5/15\n",
            "246/246 [==============================] - 11s 44ms/step - loss: 0.2421 - accuracy: 0.9068 - val_loss: 0.8180 - val_accuracy: 0.7127\n",
            "Epoch 6/15\n",
            "246/246 [==============================] - 11s 45ms/step - loss: 0.1863 - accuracy: 0.9313 - val_loss: 0.8605 - val_accuracy: 0.7031\n",
            "Epoch 7/15\n",
            "246/246 [==============================] - 11s 45ms/step - loss: 0.1438 - accuracy: 0.9470 - val_loss: 1.1784 - val_accuracy: 0.7005\n",
            "Epoch 8/15\n",
            "246/246 [==============================] - 11s 45ms/step - loss: 0.1088 - accuracy: 0.9592 - val_loss: 0.9147 - val_accuracy: 0.6902\n",
            "Epoch 9/15\n",
            "246/246 [==============================] - 11s 44ms/step - loss: 0.0864 - accuracy: 0.9700 - val_loss: 1.2415 - val_accuracy: 0.6881\n",
            "Epoch 10/15\n",
            "246/246 [==============================] - 11s 45ms/step - loss: 0.0611 - accuracy: 0.9794 - val_loss: 1.2700 - val_accuracy: 0.6922\n",
            "Epoch 11/15\n",
            "246/246 [==============================] - 11s 44ms/step - loss: 0.0528 - accuracy: 0.9802 - val_loss: 1.6485 - val_accuracy: 0.6907\n",
            "Epoch 12/15\n",
            "246/246 [==============================] - 11s 44ms/step - loss: 0.0539 - accuracy: 0.9797 - val_loss: 1.5617 - val_accuracy: 0.6894\n",
            "Epoch 13/15\n",
            "246/246 [==============================] - 11s 44ms/step - loss: 0.0357 - accuracy: 0.9868 - val_loss: 1.6880 - val_accuracy: 0.6847\n",
            "Epoch 14/15\n",
            "246/246 [==============================] - 11s 44ms/step - loss: 0.0338 - accuracy: 0.9877 - val_loss: 1.6566 - val_accuracy: 0.6749\n",
            "Epoch 15/15\n",
            "246/246 [==============================] - 11s 44ms/step - loss: 0.0287 - accuracy: 0.9903 - val_loss: 1.6289 - val_accuracy: 0.6815\n",
            "1\n",
            "Epoch 1/15\n",
            "246/246 [==============================] - 23s 71ms/step - loss: 0.6340 - accuracy: 0.6419 - val_loss: 0.5597 - val_accuracy: 0.7151\n",
            "Epoch 2/15\n",
            "246/246 [==============================] - 11s 44ms/step - loss: 0.4744 - accuracy: 0.7799 - val_loss: 0.5384 - val_accuracy: 0.7306\n",
            "Epoch 3/15\n",
            "246/246 [==============================] - 11s 44ms/step - loss: 0.3870 - accuracy: 0.8319 - val_loss: 0.5842 - val_accuracy: 0.7284\n",
            "Epoch 4/15\n",
            "246/246 [==============================] - 11s 45ms/step - loss: 0.3207 - accuracy: 0.8674 - val_loss: 0.6412 - val_accuracy: 0.7127\n",
            "Epoch 5/15\n",
            "246/246 [==============================] - 11s 44ms/step - loss: 0.2618 - accuracy: 0.8957 - val_loss: 0.7700 - val_accuracy: 0.7099\n",
            "Epoch 6/15\n",
            "246/246 [==============================] - 11s 44ms/step - loss: 0.2053 - accuracy: 0.9211 - val_loss: 0.7355 - val_accuracy: 0.7130\n",
            "Epoch 7/15\n",
            "246/246 [==============================] - 11s 44ms/step - loss: 0.1643 - accuracy: 0.9380 - val_loss: 0.9456 - val_accuracy: 0.6987\n",
            "Epoch 8/15\n",
            "246/246 [==============================] - 11s 45ms/step - loss: 0.1313 - accuracy: 0.9506 - val_loss: 0.8964 - val_accuracy: 0.6946\n",
            "Epoch 9/15\n",
            "246/246 [==============================] - 11s 45ms/step - loss: 0.1141 - accuracy: 0.9591 - val_loss: 0.9901 - val_accuracy: 0.6945\n",
            "Epoch 10/15\n",
            "246/246 [==============================] - 11s 44ms/step - loss: 0.0857 - accuracy: 0.9691 - val_loss: 1.1797 - val_accuracy: 0.6899\n",
            "Epoch 11/15\n",
            "246/246 [==============================] - 11s 44ms/step - loss: 0.0766 - accuracy: 0.9731 - val_loss: 1.2411 - val_accuracy: 0.6843\n",
            "Epoch 12/15\n",
            "246/246 [==============================] - 11s 44ms/step - loss: 0.0670 - accuracy: 0.9737 - val_loss: 1.4238 - val_accuracy: 0.6884\n",
            "Epoch 13/15\n",
            "246/246 [==============================] - 11s 45ms/step - loss: 0.0588 - accuracy: 0.9798 - val_loss: 1.3182 - val_accuracy: 0.6851\n",
            "Epoch 14/15\n",
            "246/246 [==============================] - 11s 45ms/step - loss: 0.0436 - accuracy: 0.9839 - val_loss: 1.9100 - val_accuracy: 0.6707\n",
            "Epoch 15/15\n",
            "246/246 [==============================] - 11s 45ms/step - loss: 0.0426 - accuracy: 0.9844 - val_loss: 1.7087 - val_accuracy: 0.6772\n",
            "2\n",
            "Epoch 1/15\n",
            "246/246 [==============================] - 22s 62ms/step - loss: 0.6532 - accuracy: 0.6132 - val_loss: 0.5690 - val_accuracy: 0.7036\n",
            "Epoch 2/15\n",
            "246/246 [==============================] - 11s 45ms/step - loss: 0.4929 - accuracy: 0.7665 - val_loss: 0.5291 - val_accuracy: 0.7315\n",
            "Epoch 3/15\n",
            "246/246 [==============================] - 11s 44ms/step - loss: 0.4070 - accuracy: 0.8196 - val_loss: 0.5742 - val_accuracy: 0.7276\n",
            "Epoch 4/15\n",
            "246/246 [==============================] - 11s 44ms/step - loss: 0.3419 - accuracy: 0.8544 - val_loss: 0.6126 - val_accuracy: 0.7177\n",
            "Epoch 5/15\n",
            "246/246 [==============================] - 11s 44ms/step - loss: 0.2816 - accuracy: 0.8847 - val_loss: 0.7541 - val_accuracy: 0.7154\n",
            "Epoch 6/15\n",
            "246/246 [==============================] - 11s 45ms/step - loss: 0.2247 - accuracy: 0.9120 - val_loss: 0.7206 - val_accuracy: 0.7132\n",
            "Epoch 7/15\n",
            "246/246 [==============================] - 11s 45ms/step - loss: 0.1857 - accuracy: 0.9287 - val_loss: 0.8640 - val_accuracy: 0.7030\n",
            "Epoch 8/15\n",
            "246/246 [==============================] - 11s 44ms/step - loss: 0.1471 - accuracy: 0.9456 - val_loss: 0.9738 - val_accuracy: 0.6968\n",
            "Epoch 9/15\n",
            "246/246 [==============================] - 11s 44ms/step - loss: 0.1193 - accuracy: 0.9578 - val_loss: 1.0141 - val_accuracy: 0.6933\n",
            "Epoch 10/15\n",
            "246/246 [==============================] - 11s 44ms/step - loss: 0.1002 - accuracy: 0.9627 - val_loss: 0.9938 - val_accuracy: 0.6935\n",
            "Epoch 11/15\n",
            "246/246 [==============================] - 11s 45ms/step - loss: 0.0785 - accuracy: 0.9717 - val_loss: 1.1995 - val_accuracy: 0.6897\n",
            "Epoch 12/15\n",
            "246/246 [==============================] - 11s 44ms/step - loss: 0.0723 - accuracy: 0.9755 - val_loss: 1.2509 - val_accuracy: 0.6875\n",
            "Epoch 13/15\n",
            "246/246 [==============================] - 11s 45ms/step - loss: 0.0635 - accuracy: 0.9759 - val_loss: 1.4543 - val_accuracy: 0.6878\n",
            "Epoch 14/15\n",
            "246/246 [==============================] - 11s 45ms/step - loss: 0.0523 - accuracy: 0.9818 - val_loss: 1.5054 - val_accuracy: 0.6869\n",
            "Epoch 15/15\n",
            "246/246 [==============================] - 11s 44ms/step - loss: 0.0475 - accuracy: 0.9840 - val_loss: 1.4479 - val_accuracy: 0.6824\n",
            "3\n",
            "Epoch 1/15\n",
            "246/246 [==============================] - 22s 63ms/step - loss: 0.6423 - accuracy: 0.6307 - val_loss: 0.5661 - val_accuracy: 0.7066\n",
            "Epoch 2/15\n",
            "246/246 [==============================] - 11s 44ms/step - loss: 0.4877 - accuracy: 0.7685 - val_loss: 0.5310 - val_accuracy: 0.7331\n",
            "Epoch 3/15\n",
            "246/246 [==============================] - 11s 45ms/step - loss: 0.4110 - accuracy: 0.8177 - val_loss: 0.5678 - val_accuracy: 0.7304\n",
            "Epoch 4/15\n",
            "246/246 [==============================] - 11s 44ms/step - loss: 0.3565 - accuracy: 0.8487 - val_loss: 0.5882 - val_accuracy: 0.7146\n",
            "Epoch 5/15\n",
            "246/246 [==============================] - 11s 45ms/step - loss: 0.3145 - accuracy: 0.8690 - val_loss: 0.6869 - val_accuracy: 0.7154\n",
            "Epoch 6/15\n",
            "246/246 [==============================] - 11s 45ms/step - loss: 0.2722 - accuracy: 0.8901 - val_loss: 0.6841 - val_accuracy: 0.7148\n",
            "Epoch 7/15\n",
            "246/246 [==============================] - 11s 45ms/step - loss: 0.2202 - accuracy: 0.9157 - val_loss: 0.9254 - val_accuracy: 0.7055\n",
            "Epoch 8/15\n",
            "246/246 [==============================] - 11s 45ms/step - loss: 0.1876 - accuracy: 0.9257 - val_loss: 0.8460 - val_accuracy: 0.7017\n",
            "Epoch 9/15\n",
            "246/246 [==============================] - 11s 45ms/step - loss: 0.1585 - accuracy: 0.9374 - val_loss: 0.9580 - val_accuracy: 0.6993\n",
            "Epoch 10/15\n",
            "246/246 [==============================] - 11s 45ms/step - loss: 0.1352 - accuracy: 0.9496 - val_loss: 1.0009 - val_accuracy: 0.7001\n",
            "Epoch 11/15\n",
            "246/246 [==============================] - 11s 44ms/step - loss: 0.1190 - accuracy: 0.9562 - val_loss: 0.9135 - val_accuracy: 0.6994\n",
            "Epoch 12/15\n",
            "246/246 [==============================] - 11s 45ms/step - loss: 0.1027 - accuracy: 0.9593 - val_loss: 1.2616 - val_accuracy: 0.6899\n",
            "Epoch 13/15\n",
            "246/246 [==============================] - 11s 45ms/step - loss: 0.0894 - accuracy: 0.9634 - val_loss: 1.2692 - val_accuracy: 0.7006\n",
            "Epoch 14/15\n",
            "246/246 [==============================] - 11s 44ms/step - loss: 0.0882 - accuracy: 0.9663 - val_loss: 1.3550 - val_accuracy: 0.6856\n",
            "Epoch 15/15\n",
            "246/246 [==============================] - 11s 45ms/step - loss: 0.0723 - accuracy: 0.9727 - val_loss: 1.1792 - val_accuracy: 0.6907\n",
            "4\n",
            "Epoch 1/15\n",
            "246/246 [==============================] - 22s 64ms/step - loss: 0.6473 - accuracy: 0.6235 - val_loss: 0.5666 - val_accuracy: 0.7055\n",
            "Epoch 2/15\n",
            "246/246 [==============================] - 11s 45ms/step - loss: 0.5011 - accuracy: 0.7566 - val_loss: 0.5267 - val_accuracy: 0.7323\n",
            "Epoch 3/15\n",
            "246/246 [==============================] - 11s 44ms/step - loss: 0.4231 - accuracy: 0.8116 - val_loss: 0.5494 - val_accuracy: 0.7322\n",
            "Epoch 4/15\n",
            "246/246 [==============================] - 11s 45ms/step - loss: 0.3720 - accuracy: 0.8417 - val_loss: 0.5758 - val_accuracy: 0.7186\n",
            "Epoch 5/15\n",
            "246/246 [==============================] - 11s 45ms/step - loss: 0.3279 - accuracy: 0.8647 - val_loss: 0.6211 - val_accuracy: 0.7210\n",
            "Epoch 6/15\n",
            "246/246 [==============================] - 11s 44ms/step - loss: 0.2886 - accuracy: 0.8829 - val_loss: 0.6105 - val_accuracy: 0.7255\n",
            "Epoch 7/15\n",
            "246/246 [==============================] - 11s 45ms/step - loss: 0.2440 - accuracy: 0.9065 - val_loss: 0.7946 - val_accuracy: 0.7095\n",
            "Epoch 8/15\n",
            "246/246 [==============================] - 11s 44ms/step - loss: 0.2232 - accuracy: 0.9117 - val_loss: 0.7327 - val_accuracy: 0.7081\n",
            "Epoch 9/15\n",
            "246/246 [==============================] - 11s 44ms/step - loss: 0.1865 - accuracy: 0.9276 - val_loss: 0.7749 - val_accuracy: 0.7053\n",
            "Epoch 10/15\n",
            "246/246 [==============================] - 11s 45ms/step - loss: 0.1726 - accuracy: 0.9336 - val_loss: 0.8080 - val_accuracy: 0.7066\n",
            "Epoch 11/15\n",
            "246/246 [==============================] - 11s 45ms/step - loss: 0.1547 - accuracy: 0.9417 - val_loss: 0.8826 - val_accuracy: 0.7040\n",
            "Epoch 12/15\n",
            "246/246 [==============================] - 11s 45ms/step - loss: 0.1269 - accuracy: 0.9530 - val_loss: 1.2866 - val_accuracy: 0.6977\n",
            "Epoch 13/15\n",
            "246/246 [==============================] - 11s 44ms/step - loss: 0.1236 - accuracy: 0.9544 - val_loss: 1.0410 - val_accuracy: 0.7026\n",
            "Epoch 14/15\n",
            "246/246 [==============================] - 11s 44ms/step - loss: 0.1066 - accuracy: 0.9606 - val_loss: 1.2149 - val_accuracy: 0.6895\n",
            "Epoch 15/15\n",
            "246/246 [==============================] - 11s 44ms/step - loss: 0.0911 - accuracy: 0.9657 - val_loss: 1.2164 - val_accuracy: 0.6935\n",
            "5\n",
            "Epoch 1/15\n",
            "246/246 [==============================] - 22s 66ms/step - loss: 0.6673 - accuracy: 0.5988 - val_loss: 0.5868 - val_accuracy: 0.6874\n",
            "Epoch 2/15\n",
            "246/246 [==============================] - 11s 44ms/step - loss: 0.5194 - accuracy: 0.7449 - val_loss: 0.5441 - val_accuracy: 0.7323\n",
            "Epoch 3/15\n",
            "246/246 [==============================] - 11s 45ms/step - loss: 0.4445 - accuracy: 0.7964 - val_loss: 0.5526 - val_accuracy: 0.7294\n",
            "Epoch 4/15\n",
            "246/246 [==============================] - 11s 45ms/step - loss: 0.3975 - accuracy: 0.8216 - val_loss: 0.5552 - val_accuracy: 0.7259\n",
            "Epoch 5/15\n",
            "246/246 [==============================] - 11s 44ms/step - loss: 0.3644 - accuracy: 0.8444 - val_loss: 0.6309 - val_accuracy: 0.7265\n",
            "Epoch 6/15\n",
            "246/246 [==============================] - 11s 45ms/step - loss: 0.3362 - accuracy: 0.8594 - val_loss: 0.5800 - val_accuracy: 0.7219\n",
            "Epoch 7/15\n",
            "246/246 [==============================] - 11s 45ms/step - loss: 0.3080 - accuracy: 0.8712 - val_loss: 0.6857 - val_accuracy: 0.7185\n",
            "Epoch 8/15\n",
            "246/246 [==============================] - 11s 45ms/step - loss: 0.2780 - accuracy: 0.8843 - val_loss: 0.6464 - val_accuracy: 0.7180\n",
            "Epoch 9/15\n",
            "246/246 [==============================] - 11s 45ms/step - loss: 0.2534 - accuracy: 0.8947 - val_loss: 0.6574 - val_accuracy: 0.7156\n",
            "Epoch 10/15\n",
            "246/246 [==============================] - 11s 44ms/step - loss: 0.2365 - accuracy: 0.9047 - val_loss: 0.7176 - val_accuracy: 0.7157\n",
            "Epoch 11/15\n",
            "246/246 [==============================] - 11s 44ms/step - loss: 0.2132 - accuracy: 0.9155 - val_loss: 0.7499 - val_accuracy: 0.7068\n",
            "Epoch 12/15\n",
            "246/246 [==============================] - 11s 45ms/step - loss: 0.1922 - accuracy: 0.9237 - val_loss: 0.8362 - val_accuracy: 0.7082\n",
            "Epoch 13/15\n",
            "246/246 [==============================] - 11s 44ms/step - loss: 0.1795 - accuracy: 0.9273 - val_loss: 0.9315 - val_accuracy: 0.7069\n",
            "Epoch 14/15\n",
            "246/246 [==============================] - 11s 45ms/step - loss: 0.1691 - accuracy: 0.9310 - val_loss: 0.9779 - val_accuracy: 0.7062\n",
            "Epoch 15/15\n",
            "246/246 [==============================] - 11s 44ms/step - loss: 0.1582 - accuracy: 0.9385 - val_loss: 0.9243 - val_accuracy: 0.6973\n",
            "6\n",
            "Epoch 1/15\n",
            "246/246 [==============================] - 21s 62ms/step - loss: 0.6640 - accuracy: 0.6052 - val_loss: 0.5952 - val_accuracy: 0.6743\n",
            "Epoch 2/15\n",
            "246/246 [==============================] - 11s 45ms/step - loss: 0.5358 - accuracy: 0.7311 - val_loss: 0.5329 - val_accuracy: 0.7252\n",
            "Epoch 3/15\n",
            "246/246 [==============================] - 11s 44ms/step - loss: 0.4678 - accuracy: 0.7799 - val_loss: 0.5690 - val_accuracy: 0.7264\n",
            "Epoch 4/15\n",
            "246/246 [==============================] - 11s 44ms/step - loss: 0.4263 - accuracy: 0.8082 - val_loss: 0.5392 - val_accuracy: 0.7315\n",
            "Epoch 5/15\n",
            "246/246 [==============================] - 11s 45ms/step - loss: 0.3987 - accuracy: 0.8233 - val_loss: 0.5975 - val_accuracy: 0.7294\n",
            "Epoch 6/15\n",
            "246/246 [==============================] - 11s 45ms/step - loss: 0.3703 - accuracy: 0.8390 - val_loss: 0.5674 - val_accuracy: 0.7257\n",
            "Epoch 7/15\n",
            "246/246 [==============================] - 11s 44ms/step - loss: 0.3520 - accuracy: 0.8481 - val_loss: 0.6025 - val_accuracy: 0.7207\n",
            "Epoch 8/15\n",
            "246/246 [==============================] - 11s 44ms/step - loss: 0.3324 - accuracy: 0.8585 - val_loss: 0.6032 - val_accuracy: 0.7228\n",
            "Epoch 9/15\n",
            "246/246 [==============================] - 11s 44ms/step - loss: 0.3166 - accuracy: 0.8667 - val_loss: 0.6396 - val_accuracy: 0.7245\n",
            "Epoch 10/15\n",
            "246/246 [==============================] - 11s 45ms/step - loss: 0.3033 - accuracy: 0.8722 - val_loss: 0.6211 - val_accuracy: 0.7255\n",
            "Epoch 11/15\n",
            "246/246 [==============================] - 11s 44ms/step - loss: 0.2790 - accuracy: 0.8855 - val_loss: 0.6301 - val_accuracy: 0.7189\n",
            "Epoch 12/15\n",
            "246/246 [==============================] - 11s 45ms/step - loss: 0.2668 - accuracy: 0.8897 - val_loss: 0.6814 - val_accuracy: 0.7182\n",
            "Epoch 13/15\n",
            "246/246 [==============================] - 11s 44ms/step - loss: 0.2488 - accuracy: 0.8985 - val_loss: 0.7487 - val_accuracy: 0.7167\n",
            "Epoch 14/15\n",
            "246/246 [==============================] - 11s 44ms/step - loss: 0.2369 - accuracy: 0.9055 - val_loss: 0.6972 - val_accuracy: 0.7147\n",
            "Epoch 15/15\n",
            "246/246 [==============================] - 11s 44ms/step - loss: 0.2194 - accuracy: 0.9120 - val_loss: 0.7308 - val_accuracy: 0.7135\n",
            "7\n",
            "Epoch 1/15\n",
            "246/246 [==============================] - 22s 63ms/step - loss: 0.6791 - accuracy: 0.5838 - val_loss: 0.6502 - val_accuracy: 0.6397\n",
            "Epoch 2/15\n",
            "246/246 [==============================] - 11s 44ms/step - loss: 0.5693 - accuracy: 0.7048 - val_loss: 0.5437 - val_accuracy: 0.7163\n",
            "Epoch 3/15\n",
            "246/246 [==============================] - 11s 45ms/step - loss: 0.5035 - accuracy: 0.7589 - val_loss: 0.5375 - val_accuracy: 0.7276\n",
            "Epoch 4/15\n",
            "246/246 [==============================] - 11s 44ms/step - loss: 0.4680 - accuracy: 0.7752 - val_loss: 0.5385 - val_accuracy: 0.7294\n",
            "Epoch 5/15\n",
            "246/246 [==============================] - 11s 45ms/step - loss: 0.4413 - accuracy: 0.7974 - val_loss: 0.5818 - val_accuracy: 0.7356\n",
            "Epoch 6/15\n",
            "246/246 [==============================] - 11s 45ms/step - loss: 0.4234 - accuracy: 0.8051 - val_loss: 0.5532 - val_accuracy: 0.7362\n",
            "Epoch 7/15\n",
            "246/246 [==============================] - 11s 44ms/step - loss: 0.3934 - accuracy: 0.8280 - val_loss: 0.5686 - val_accuracy: 0.7304\n",
            "Epoch 8/15\n",
            "246/246 [==============================] - 11s 44ms/step - loss: 0.3798 - accuracy: 0.8350 - val_loss: 0.5502 - val_accuracy: 0.7327\n",
            "Epoch 9/15\n",
            "246/246 [==============================] - 11s 45ms/step - loss: 0.3682 - accuracy: 0.8383 - val_loss: 0.5653 - val_accuracy: 0.7325\n",
            "Epoch 10/15\n",
            "246/246 [==============================] - 11s 45ms/step - loss: 0.3563 - accuracy: 0.8453 - val_loss: 0.6138 - val_accuracy: 0.7308\n",
            "Epoch 11/15\n",
            "246/246 [==============================] - 11s 45ms/step - loss: 0.3462 - accuracy: 0.8518 - val_loss: 0.5712 - val_accuracy: 0.7264\n",
            "Epoch 12/15\n",
            "246/246 [==============================] - 11s 44ms/step - loss: 0.3252 - accuracy: 0.8646 - val_loss: 0.6136 - val_accuracy: 0.7275\n",
            "Epoch 13/15\n",
            "246/246 [==============================] - 11s 44ms/step - loss: 0.3247 - accuracy: 0.8613 - val_loss: 0.6129 - val_accuracy: 0.7278\n",
            "Epoch 14/15\n",
            "246/246 [==============================] - 11s 45ms/step - loss: 0.3163 - accuracy: 0.8651 - val_loss: 0.5960 - val_accuracy: 0.7226\n",
            "Epoch 15/15\n",
            "246/246 [==============================] - 11s 44ms/step - loss: 0.3009 - accuracy: 0.8756 - val_loss: 0.6186 - val_accuracy: 0.7217\n",
            "8\n",
            "Epoch 1/15\n",
            "246/246 [==============================] - 21s 62ms/step - loss: 0.6839 - accuracy: 0.5744 - val_loss: 0.6543 - val_accuracy: 0.6014\n",
            "Epoch 2/15\n",
            "246/246 [==============================] - 11s 45ms/step - loss: 0.6256 - accuracy: 0.6509 - val_loss: 0.5877 - val_accuracy: 0.7132\n",
            "Epoch 3/15\n",
            "246/246 [==============================] - 11s 45ms/step - loss: 0.5661 - accuracy: 0.7082 - val_loss: 0.5529 - val_accuracy: 0.7111\n",
            "Epoch 4/15\n",
            "246/246 [==============================] - 11s 45ms/step - loss: 0.5356 - accuracy: 0.7344 - val_loss: 0.5497 - val_accuracy: 0.7200\n",
            "Epoch 5/15\n",
            "246/246 [==============================] - 11s 45ms/step - loss: 0.5127 - accuracy: 0.7496 - val_loss: 0.5411 - val_accuracy: 0.7269\n",
            "Epoch 6/15\n",
            "246/246 [==============================] - 11s 45ms/step - loss: 0.4977 - accuracy: 0.7602 - val_loss: 0.5376 - val_accuracy: 0.7262\n",
            "Epoch 7/15\n",
            "246/246 [==============================] - 11s 44ms/step - loss: 0.4798 - accuracy: 0.7697 - val_loss: 0.5508 - val_accuracy: 0.7316\n",
            "Epoch 8/15\n",
            "246/246 [==============================] - 11s 45ms/step - loss: 0.4658 - accuracy: 0.7812 - val_loss: 0.5362 - val_accuracy: 0.7298\n",
            "Epoch 9/15\n",
            "246/246 [==============================] - 11s 44ms/step - loss: 0.4612 - accuracy: 0.7865 - val_loss: 0.5624 - val_accuracy: 0.7334\n",
            "Epoch 10/15\n",
            "246/246 [==============================] - 11s 45ms/step - loss: 0.4445 - accuracy: 0.7924 - val_loss: 0.5386 - val_accuracy: 0.7355\n",
            "Epoch 11/15\n",
            "246/246 [==============================] - 11s 45ms/step - loss: 0.4281 - accuracy: 0.8021 - val_loss: 0.5368 - val_accuracy: 0.7340\n",
            "Epoch 12/15\n",
            "246/246 [==============================] - 11s 45ms/step - loss: 0.4244 - accuracy: 0.8078 - val_loss: 0.5602 - val_accuracy: 0.7337\n",
            "Epoch 13/15\n",
            "246/246 [==============================] - 11s 45ms/step - loss: 0.4248 - accuracy: 0.8096 - val_loss: 0.5534 - val_accuracy: 0.7329\n",
            "Epoch 14/15\n",
            "246/246 [==============================] - 11s 44ms/step - loss: 0.4135 - accuracy: 0.8117 - val_loss: 0.5466 - val_accuracy: 0.7308\n",
            "Epoch 15/15\n",
            "246/246 [==============================] - 11s 45ms/step - loss: 0.4059 - accuracy: 0.8172 - val_loss: 0.5363 - val_accuracy: 0.7311\n",
            "9\n",
            "Epoch 1/15\n",
            "246/246 [==============================] - 22s 65ms/step - loss: 0.6854 - accuracy: 0.5705 - val_loss: 0.6844 - val_accuracy: 0.5662\n",
            "Epoch 2/15\n",
            "246/246 [==============================] - 11s 45ms/step - loss: 0.6834 - accuracy: 0.5718 - val_loss: 0.6851 - val_accuracy: 0.5662\n",
            "Epoch 3/15\n",
            "246/246 [==============================] - 11s 45ms/step - loss: 0.6836 - accuracy: 0.5718 - val_loss: 0.6844 - val_accuracy: 0.5662\n",
            "Epoch 4/15\n",
            "246/246 [==============================] - 11s 45ms/step - loss: 0.6834 - accuracy: 0.5718 - val_loss: 0.6844 - val_accuracy: 0.5662\n",
            "Epoch 5/15\n",
            "246/246 [==============================] - 11s 45ms/step - loss: 0.6833 - accuracy: 0.5718 - val_loss: 0.6845 - val_accuracy: 0.5662\n",
            "Epoch 6/15\n",
            "246/246 [==============================] - 11s 45ms/step - loss: 0.6833 - accuracy: 0.5718 - val_loss: 0.6844 - val_accuracy: 0.5662\n",
            "Epoch 7/15\n",
            "246/246 [==============================] - 11s 45ms/step - loss: 0.6832 - accuracy: 0.5718 - val_loss: 0.6844 - val_accuracy: 0.5662\n",
            "Epoch 8/15\n",
            "246/246 [==============================] - 11s 45ms/step - loss: 0.6830 - accuracy: 0.5718 - val_loss: 0.6844 - val_accuracy: 0.5662\n",
            "Epoch 9/15\n",
            "246/246 [==============================] - 11s 45ms/step - loss: 0.6831 - accuracy: 0.5718 - val_loss: 0.6845 - val_accuracy: 0.5662\n",
            "Epoch 10/15\n",
            "246/246 [==============================] - 11s 45ms/step - loss: 0.6831 - accuracy: 0.5718 - val_loss: 0.6845 - val_accuracy: 0.5662\n",
            "Epoch 11/15\n",
            "246/246 [==============================] - 11s 45ms/step - loss: 0.6830 - accuracy: 0.5718 - val_loss: 0.6844 - val_accuracy: 0.5662\n",
            "Epoch 12/15\n",
            "246/246 [==============================] - 11s 45ms/step - loss: 0.6832 - accuracy: 0.5718 - val_loss: 0.6844 - val_accuracy: 0.5662\n",
            "Epoch 13/15\n",
            "246/246 [==============================] - 11s 45ms/step - loss: 0.6829 - accuracy: 0.5718 - val_loss: 0.6844 - val_accuracy: 0.5662\n",
            "Epoch 14/15\n",
            "246/246 [==============================] - 11s 45ms/step - loss: 0.6831 - accuracy: 0.5718 - val_loss: 0.6844 - val_accuracy: 0.5662\n",
            "Epoch 15/15\n",
            "246/246 [==============================] - 11s 45ms/step - loss: 0.6831 - accuracy: 0.5718 - val_loss: 0.6844 - val_accuracy: 0.5662\n"
          ]
        }
      ]
    },
    {
      "cell_type": "markdown",
      "metadata": {
        "id": "vUaeWPMtGboy"
      },
      "source": [
        "# Varying Dropout Plots"
      ]
    },
    {
      "cell_type": "code",
      "metadata": {
        "id": "R1lSXnOLFvfu",
        "colab": {
          "base_uri": "https://localhost:8080/",
          "height": 298
        },
        "outputId": "3d1c5062-c57f-4f53-ebfd-64de4bf66be4"
      },
      "source": [
        "plt.plot(vals,final_val_losses,'ro-',label=\"final validation loss\")\n",
        "plt.plot(vals,final_val_accs,'bo-',label='final validation accuracy')\n",
        "plt.title(\"validation accuracy and validation loss as a function of dropout probability\")\n",
        "plt.legend()\n",
        "plt.show()\n",
        "\n",
        "bestdropout = vals[int(np.where(final_val_losses==np.min(final_val_losses))[0])]\n",
        "print(bestdropout)"
      ],
      "execution_count": null,
      "outputs": [
        {
          "output_type": "display_data",
          "data": {
            "image/png": "[encoded data removed]",
            "text/plain": [
              "<Figure size 432x288 with 1 Axes>"
            ]
          },
          "metadata": {
            "needs_background": "light"
          }
        },
        {
          "output_type": "stream",
          "name": "stdout",
          "text": [
            "0.8999999999999999\n"
          ]
        }
      ]
    },
    {
      "cell_type": "markdown",
      "metadata": {
        "id": "tCJ1TYBNJBts"
      },
      "source": [
        "# Varying Activation Function\n",
        "Testing the sigmoid versus relu activation functions"
      ]
    },
    {
      "cell_type": "code",
      "metadata": {
        "id": "ayWERgayJH6T",
        "colab": {
          "base_uri": "https://localhost:8080/"
        },
        "outputId": "1cb50c7f-c701-4f54-ac6f-76d0b24b5bf2"
      },
      "source": [
        "model = buildModel_varyparams(MAX_LEN,dropoutval=bestdropout,activation_func=\"sigmoid\",learningrate=0.001,num_neurons1=bestnumneurons1, num_neurons2=bestnumneurons2)\n",
        "history = model.fit(x_train,y_train,epochs=15,validation_split=bestsplit)\n",
        "sigmoid_loss = history.history['val_loss']\n",
        "sigmoid_acc = history.history['val_accuracy']\n",
        "\n",
        "model = buildModel_varyparams(MAX_LEN,dropoutval=bestdropout,activation_func=\"relu\",learningrate=0.001,num_neurons1=bestnumneurons1, num_neurons2=bestnumneurons2)\n",
        "history = model.fit(x_train,y_train,epochs=15,validation_split=bestsplit)\n",
        "relu_loss = history.history['val_loss']\n",
        "relu_acc = history.history['val_accuracy']"
      ],
      "execution_count": null,
      "outputs": [
        {
          "output_type": "stream",
          "name": "stdout",
          "text": [
            "Epoch 1/15\n",
            "246/246 [==============================] - 24s 71ms/step - loss: 0.6851 - accuracy: 0.5701 - val_loss: 0.6831 - val_accuracy: 0.5662\n",
            "Epoch 2/15\n",
            "246/246 [==============================] - 11s 44ms/step - loss: 0.6459 - accuracy: 0.6237 - val_loss: 0.5980 - val_accuracy: 0.6804\n",
            "Epoch 3/15\n",
            "246/246 [==============================] - 11s 45ms/step - loss: 0.5826 - accuracy: 0.6944 - val_loss: 0.5548 - val_accuracy: 0.7163\n",
            "Epoch 4/15\n",
            "246/246 [==============================] - 11s 44ms/step - loss: 0.5505 - accuracy: 0.7218 - val_loss: 0.5521 - val_accuracy: 0.7227\n",
            "Epoch 5/15\n",
            "246/246 [==============================] - 11s 44ms/step - loss: 0.5214 - accuracy: 0.7504 - val_loss: 0.5502 - val_accuracy: 0.7255\n",
            "Epoch 6/15\n",
            "246/246 [==============================] - 11s 44ms/step - loss: 0.5068 - accuracy: 0.7489 - val_loss: 0.5393 - val_accuracy: 0.7309\n",
            "Epoch 7/15\n",
            "246/246 [==============================] - 11s 45ms/step - loss: 0.4837 - accuracy: 0.7712 - val_loss: 0.5460 - val_accuracy: 0.7280\n",
            "Epoch 8/15\n",
            "246/246 [==============================] - 11s 45ms/step - loss: 0.4744 - accuracy: 0.7781 - val_loss: 0.5378 - val_accuracy: 0.7308\n",
            "Epoch 9/15\n",
            "246/246 [==============================] - 11s 45ms/step - loss: 0.4718 - accuracy: 0.7765 - val_loss: 0.5503 - val_accuracy: 0.7312\n",
            "Epoch 10/15\n",
            "246/246 [==============================] - 11s 44ms/step - loss: 0.4472 - accuracy: 0.7928 - val_loss: 0.5403 - val_accuracy: 0.7345\n",
            "Epoch 11/15\n",
            "246/246 [==============================] - 11s 45ms/step - loss: 0.4388 - accuracy: 0.7965 - val_loss: 0.5311 - val_accuracy: 0.7374\n",
            "Epoch 12/15\n",
            "246/246 [==============================] - 11s 44ms/step - loss: 0.4335 - accuracy: 0.8032 - val_loss: 0.5487 - val_accuracy: 0.7339\n",
            "Epoch 13/15\n",
            "246/246 [==============================] - 11s 45ms/step - loss: 0.4268 - accuracy: 0.8083 - val_loss: 0.5462 - val_accuracy: 0.7325\n",
            "Epoch 14/15\n",
            "246/246 [==============================] - 11s 44ms/step - loss: 0.4146 - accuracy: 0.8128 - val_loss: 0.5538 - val_accuracy: 0.7341\n",
            "Epoch 15/15\n",
            "246/246 [==============================] - 11s 45ms/step - loss: 0.4068 - accuracy: 0.8177 - val_loss: 0.5306 - val_accuracy: 0.7344\n",
            "Epoch 1/15\n",
            "246/246 [==============================] - 25s 76ms/step - loss: 0.7295 - accuracy: 0.5474 - val_loss: 0.6697 - val_accuracy: 0.6477\n",
            "Epoch 2/15\n",
            "246/246 [==============================] - 11s 47ms/step - loss: 0.6950 - accuracy: 0.5852 - val_loss: 0.7528 - val_accuracy: 0.4338\n",
            "Epoch 3/15\n",
            "246/246 [==============================] - 11s 45ms/step - loss: 0.6349 - accuracy: 0.6435 - val_loss: 0.5906 - val_accuracy: 0.6872\n",
            "Epoch 4/15\n",
            "246/246 [==============================] - 11s 45ms/step - loss: 0.5919 - accuracy: 0.6955 - val_loss: 0.5676 - val_accuracy: 0.7114\n",
            "Epoch 5/15\n",
            "246/246 [==============================] - 11s 45ms/step - loss: 0.6822 - accuracy: 0.6678 - val_loss: 0.5671 - val_accuracy: 0.7031\n",
            "Epoch 6/15\n",
            "246/246 [==============================] - 11s 45ms/step - loss: 0.5906 - accuracy: 0.6939 - val_loss: 0.5712 - val_accuracy: 0.6933\n",
            "Epoch 7/15\n",
            "246/246 [==============================] - 11s 45ms/step - loss: 0.5300 - accuracy: 0.7403 - val_loss: 0.5913 - val_accuracy: 0.7223\n",
            "Epoch 8/15\n",
            "246/246 [==============================] - 11s 45ms/step - loss: 6.3510 - accuracy: 0.5789 - val_loss: 6.6154 - val_accuracy: 0.5662\n",
            "Epoch 9/15\n",
            "246/246 [==============================] - 11s 45ms/step - loss: 6.4552 - accuracy: 0.5767 - val_loss: 6.6154 - val_accuracy: 0.5662\n",
            "Epoch 10/15\n",
            "246/246 [==============================] - 11s 45ms/step - loss: 6.4822 - accuracy: 0.5749 - val_loss: 6.6154 - val_accuracy: 0.5662\n",
            "Epoch 11/15\n",
            "246/246 [==============================] - 11s 44ms/step - loss: 6.5077 - accuracy: 0.5733 - val_loss: 6.6154 - val_accuracy: 0.5662\n",
            "Epoch 12/15\n",
            "246/246 [==============================] - 11s 44ms/step - loss: 6.6410 - accuracy: 0.5649 - val_loss: 8.7294 - val_accuracy: 0.4341\n",
            "Epoch 13/15\n",
            "246/246 [==============================] - 11s 45ms/step - loss: 8.7050 - accuracy: 0.4356 - val_loss: 8.7294 - val_accuracy: 0.4341\n",
            "Epoch 14/15\n",
            "246/246 [==============================] - 11s 44ms/step - loss: 8.6503 - accuracy: 0.4392 - val_loss: 8.7294 - val_accuracy: 0.4341\n",
            "Epoch 15/15\n",
            "246/246 [==============================] - 11s 45ms/step - loss: 8.6914 - accuracy: 0.4365 - val_loss: 8.7294 - val_accuracy: 0.4341\n"
          ]
        }
      ]
    },
    {
      "cell_type": "markdown",
      "metadata": {
        "id": "GtLP-cQqL7dr"
      },
      "source": [
        "# Varying Activation Function Plots"
      ]
    },
    {
      "cell_type": "code",
      "metadata": {
        "id": "tORx-wVeLEjw",
        "colab": {
          "base_uri": "https://localhost:8080/",
          "height": 590
        },
        "outputId": "8a33e256-78da-43c6-9b59-34a1c9e38af4"
      },
      "source": [
        "epochs = np.linspace(0,14,15)\n",
        "plt.plot(epochs,sigmoid_acc,'ro-')\n",
        "plt.plot(epochs,relu_acc,'bo-')\n",
        "plt.title('Model Validation Accuracy For Sigmoid and relu activation functions')\n",
        "plt.ylabel('Accuracy')\n",
        "plt.xlabel('Epoch')\n",
        "plt.legend(['sigmoid', 'relu'], loc='upper left')\n",
        "plt.show()\n",
        "\n",
        "# summarize history for loss\n",
        "plt.plot(epochs,sigmoid_loss,'ro-')\n",
        "plt.plot(epochs,relu_loss,'bo-')\n",
        "plt.title('Model Validation Loss For Sigmoid and relu activation functions')\n",
        "plt.ylabel('Loss')\n",
        "plt.xlabel('Epoch')\n",
        "plt.legend(['sigmoid', 'relu'], loc='upper left')\n",
        "plt.show()\n",
        "\n",
        "best_activation = \"\"\n",
        "if (sigmoid_loss[14]>relu_loss[14]):\n",
        "  best_activation = \"relu\"\n",
        "else:\n",
        "  best_activation = \"sigmoid\"\n",
        "  \n",
        "print(best_activation)"
      ],
      "execution_count": null,
      "outputs": [
        {
          "output_type": "display_data",
          "data": {
            "image/png": "[encoded data removed]",
            "text/plain": [
              "<Figure size 432x288 with 1 Axes>"
            ]
          },
          "metadata": {
            "needs_background": "light"
          }
        },
        {
          "output_type": "display_data",
          "data": {
            "image/png": "[encoded data removed]",
            "text/plain": [
              "<Figure size 432x288 with 1 Axes>"
            ]
          },
          "metadata": {
            "needs_background": "light"
          }
        },
        {
          "output_type": "stream",
          "name": "stdout",
          "text": [
            "sigmoid\n"
          ]
        }
      ]
    },
    {
      "cell_type": "markdown",
      "metadata": {
        "id": "MUzagN0sOrmx"
      },
      "source": [
        "#Varying Learning Rate "
      ]
    },
    {
      "cell_type": "code",
      "metadata": {
        "id": "ja73IwdaOwpz",
        "colab": {
          "base_uri": "https://localhost:8080/"
        },
        "outputId": "adde16ab-fb39-4890-cf48-b6a3ca6f0195"
      },
      "source": [
        "val = 0\n",
        "rates = []\n",
        "final_val_losses = []\n",
        "final_val_accs = []\n",
        "\n",
        "for i in range(1,7):\n",
        "    val = 1*(10**(-i))\n",
        "    print(i)\n",
        "    rates.append(val)\n",
        "    model = buildModel_varyparams(MAX_LEN,dropoutval=bestdropout,activation_func=best_activation,learningrate=val,num_neurons1=bestnumneurons1, num_neurons2=bestnumneurons2)\n",
        "    history = model.fit(x_train,y_train,epochs=15,validation_split=bestsplit) \n",
        "    final_val_losses.append(history.history['val_loss'][14])\n",
        "    final_val_accs.append(history.history['val_accuracy'][14])"
      ],
      "execution_count": null,
      "outputs": [
        {
          "output_type": "stream",
          "name": "stdout",
          "text": [
            "1\n",
            "Epoch 1/15\n",
            "246/246 [==============================] - 24s 73ms/step - loss: 0.8413 - accuracy: 0.5117 - val_loss: 0.6982 - val_accuracy: 0.5636\n",
            "Epoch 2/15\n",
            "246/246 [==============================] - 11s 45ms/step - loss: 0.8183 - accuracy: 0.5306 - val_loss: 0.9264 - val_accuracy: 0.5141\n",
            "Epoch 3/15\n",
            "246/246 [==============================] - 11s 44ms/step - loss: 1.0182 - accuracy: 0.5147 - val_loss: 1.0342 - val_accuracy: 0.5370\n",
            "Epoch 4/15\n",
            "246/246 [==============================] - 11s 45ms/step - loss: 0.9660 - accuracy: 0.5260 - val_loss: 1.0491 - val_accuracy: 0.4898\n",
            "Epoch 5/15\n",
            "246/246 [==============================] - 11s 44ms/step - loss: 0.9958 - accuracy: 0.5107 - val_loss: 1.0571 - val_accuracy: 0.5287\n",
            "Epoch 6/15\n",
            "246/246 [==============================] - 11s 45ms/step - loss: 0.9810 - accuracy: 0.5135 - val_loss: 0.9654 - val_accuracy: 0.5262\n",
            "Epoch 7/15\n",
            "246/246 [==============================] - 11s 45ms/step - loss: 0.9985 - accuracy: 0.5137 - val_loss: 1.0144 - val_accuracy: 0.5034\n",
            "Epoch 8/15\n",
            "246/246 [==============================] - 11s 44ms/step - loss: 1.0100 - accuracy: 0.5069 - val_loss: 0.9685 - val_accuracy: 0.5051\n",
            "Epoch 9/15\n",
            "246/246 [==============================] - 11s 45ms/step - loss: 1.0156 - accuracy: 0.5177 - val_loss: 1.0236 - val_accuracy: 0.5006\n",
            "Epoch 10/15\n",
            "246/246 [==============================] - 11s 44ms/step - loss: 1.0272 - accuracy: 0.5165 - val_loss: 0.9928 - val_accuracy: 0.4972\n",
            "Epoch 11/15\n",
            "246/246 [==============================] - 11s 44ms/step - loss: 1.0143 - accuracy: 0.5122 - val_loss: 1.0260 - val_accuracy: 0.5085\n",
            "Epoch 12/15\n",
            "246/246 [==============================] - 11s 44ms/step - loss: 1.0360 - accuracy: 0.5151 - val_loss: 1.0105 - val_accuracy: 0.5055\n",
            "Epoch 13/15\n",
            "246/246 [==============================] - 11s 44ms/step - loss: 1.0168 - accuracy: 0.5208 - val_loss: 0.9815 - val_accuracy: 0.5135\n",
            "Epoch 14/15\n",
            "246/246 [==============================] - 11s 45ms/step - loss: 1.0185 - accuracy: 0.5164 - val_loss: 1.0236 - val_accuracy: 0.5165\n",
            "Epoch 15/15\n",
            "246/246 [==============================] - 11s 44ms/step - loss: 1.0264 - accuracy: 0.5119 - val_loss: 0.9760 - val_accuracy: 0.5009\n",
            "2\n",
            "Epoch 1/15\n",
            "246/246 [==============================] - 24s 73ms/step - loss: 0.6882 - accuracy: 0.5667 - val_loss: 0.6845 - val_accuracy: 0.5662\n",
            "Epoch 2/15\n",
            "246/246 [==============================] - 13s 53ms/step - loss: 0.6830 - accuracy: 0.5718 - val_loss: 0.6853 - val_accuracy: 0.5662\n",
            "Epoch 3/15\n",
            "246/246 [==============================] - 11s 44ms/step - loss: 0.6835 - accuracy: 0.5718 - val_loss: 0.6846 - val_accuracy: 0.5662\n",
            "Epoch 4/15\n",
            "246/246 [==============================] - 11s 45ms/step - loss: 0.6834 - accuracy: 0.5718 - val_loss: 0.6849 - val_accuracy: 0.5662\n",
            "Epoch 5/15\n",
            "246/246 [==============================] - 11s 45ms/step - loss: 0.6833 - accuracy: 0.5718 - val_loss: 0.6846 - val_accuracy: 0.5662\n",
            "Epoch 6/15\n",
            "246/246 [==============================] - 11s 44ms/step - loss: 0.6834 - accuracy: 0.5718 - val_loss: 0.6844 - val_accuracy: 0.5662\n",
            "Epoch 7/15\n",
            "246/246 [==============================] - 11s 44ms/step - loss: 0.6834 - accuracy: 0.5718 - val_loss: 0.6845 - val_accuracy: 0.5662\n",
            "Epoch 8/15\n",
            "246/246 [==============================] - 11s 44ms/step - loss: 0.6833 - accuracy: 0.5718 - val_loss: 0.6845 - val_accuracy: 0.5662\n",
            "Epoch 9/15\n",
            "246/246 [==============================] - 11s 45ms/step - loss: 0.6832 - accuracy: 0.5718 - val_loss: 0.6844 - val_accuracy: 0.5662\n",
            "Epoch 10/15\n",
            "246/246 [==============================] - 11s 44ms/step - loss: 0.6833 - accuracy: 0.5718 - val_loss: 0.6845 - val_accuracy: 0.5662\n",
            "Epoch 11/15\n",
            "246/246 [==============================] - 11s 45ms/step - loss: 0.6831 - accuracy: 0.5718 - val_loss: 0.6844 - val_accuracy: 0.5662\n",
            "Epoch 12/15\n",
            "246/246 [==============================] - 11s 44ms/step - loss: 0.6835 - accuracy: 0.5718 - val_loss: 0.6845 - val_accuracy: 0.5662\n",
            "Epoch 13/15\n",
            "246/246 [==============================] - 11s 45ms/step - loss: 0.6831 - accuracy: 0.5718 - val_loss: 0.6844 - val_accuracy: 0.5662\n",
            "Epoch 14/15\n",
            "246/246 [==============================] - 11s 44ms/step - loss: 0.6833 - accuracy: 0.5718 - val_loss: 0.6845 - val_accuracy: 0.5662\n",
            "Epoch 15/15\n",
            "246/246 [==============================] - 11s 45ms/step - loss: 0.6834 - accuracy: 0.5718 - val_loss: 0.6845 - val_accuracy: 0.5662\n",
            "3\n",
            "Epoch 1/15\n",
            "246/246 [==============================] - 22s 62ms/step - loss: 0.6844 - accuracy: 0.5704 - val_loss: 0.6832 - val_accuracy: 0.5663\n",
            "Epoch 2/15\n",
            "246/246 [==============================] - 11s 45ms/step - loss: 0.6382 - accuracy: 0.6282 - val_loss: 0.5848 - val_accuracy: 0.6796\n",
            "Epoch 3/15\n",
            "246/246 [==============================] - 11s 45ms/step - loss: 0.5711 - accuracy: 0.7010 - val_loss: 0.5538 - val_accuracy: 0.7151\n",
            "Epoch 4/15\n",
            "246/246 [==============================] - 11s 44ms/step - loss: 0.5425 - accuracy: 0.7261 - val_loss: 0.5543 - val_accuracy: 0.7254\n",
            "Epoch 5/15\n",
            "246/246 [==============================] - 11s 45ms/step - loss: 0.5129 - accuracy: 0.7513 - val_loss: 0.5438 - val_accuracy: 0.7259\n",
            "Epoch 6/15\n",
            "246/246 [==============================] - 11s 44ms/step - loss: 0.4987 - accuracy: 0.7635 - val_loss: 0.5472 - val_accuracy: 0.7295\n",
            "Epoch 7/15\n",
            "246/246 [==============================] - 11s 44ms/step - loss: 0.4808 - accuracy: 0.7703 - val_loss: 0.5428 - val_accuracy: 0.7342\n",
            "Epoch 8/15\n",
            "246/246 [==============================] - 11s 45ms/step - loss: 0.4687 - accuracy: 0.7810 - val_loss: 0.5347 - val_accuracy: 0.7331\n",
            "Epoch 9/15\n",
            "246/246 [==============================] - 11s 45ms/step - loss: 0.4684 - accuracy: 0.7776 - val_loss: 0.5619 - val_accuracy: 0.7368\n",
            "Epoch 10/15\n",
            "246/246 [==============================] - 11s 45ms/step - loss: 0.4468 - accuracy: 0.7943 - val_loss: 0.5420 - val_accuracy: 0.7363\n",
            "Epoch 11/15\n",
            "246/246 [==============================] - 11s 45ms/step - loss: 0.4382 - accuracy: 0.7978 - val_loss: 0.5321 - val_accuracy: 0.7329\n",
            "Epoch 12/15\n",
            "246/246 [==============================] - 11s 44ms/step - loss: 0.4269 - accuracy: 0.8107 - val_loss: 0.5425 - val_accuracy: 0.7337\n",
            "Epoch 13/15\n",
            "246/246 [==============================] - 11s 45ms/step - loss: 0.4264 - accuracy: 0.8105 - val_loss: 0.5557 - val_accuracy: 0.7346\n",
            "Epoch 14/15\n",
            "246/246 [==============================] - 11s 45ms/step - loss: 0.4174 - accuracy: 0.8081 - val_loss: 0.5457 - val_accuracy: 0.7342\n",
            "Epoch 15/15\n",
            "246/246 [==============================] - 11s 45ms/step - loss: 0.4074 - accuracy: 0.8186 - val_loss: 0.5421 - val_accuracy: 0.7322\n",
            "4\n",
            "Epoch 1/15\n",
            "246/246 [==============================] - 24s 73ms/step - loss: 0.6842 - accuracy: 0.5710 - val_loss: 0.6830 - val_accuracy: 0.5662\n",
            "Epoch 2/15\n",
            "246/246 [==============================] - 11s 45ms/step - loss: 0.6806 - accuracy: 0.5722 - val_loss: 0.6801 - val_accuracy: 0.5662\n",
            "Epoch 3/15\n",
            "246/246 [==============================] - 11s 44ms/step - loss: 0.6755 - accuracy: 0.5779 - val_loss: 0.6736 - val_accuracy: 0.5671\n",
            "Epoch 4/15\n",
            "246/246 [==============================] - 11s 45ms/step - loss: 0.6665 - accuracy: 0.5973 - val_loss: 0.6600 - val_accuracy: 0.6155\n",
            "Epoch 5/15\n",
            "246/246 [==============================] - 11s 45ms/step - loss: 0.6500 - accuracy: 0.6147 - val_loss: 0.6362 - val_accuracy: 0.6596\n",
            "Epoch 6/15\n",
            "246/246 [==============================] - 11s 45ms/step - loss: 0.6395 - accuracy: 0.6321 - val_loss: 0.6183 - val_accuracy: 0.6570\n",
            "Epoch 7/15\n",
            "246/246 [==============================] - 11s 44ms/step - loss: 0.6267 - accuracy: 0.6512 - val_loss: 0.6051 - val_accuracy: 0.6752\n",
            "Epoch 8/15\n",
            "246/246 [==============================] - 11s 44ms/step - loss: 0.6077 - accuracy: 0.6615 - val_loss: 0.5963 - val_accuracy: 0.6890\n",
            "Epoch 9/15\n",
            "246/246 [==============================] - 11s 44ms/step - loss: 0.5979 - accuracy: 0.6744 - val_loss: 0.5824 - val_accuracy: 0.6860\n",
            "Epoch 10/15\n",
            "246/246 [==============================] - 11s 45ms/step - loss: 0.5864 - accuracy: 0.6865 - val_loss: 0.5775 - val_accuracy: 0.6999\n",
            "Epoch 11/15\n",
            "246/246 [==============================] - 11s 45ms/step - loss: 0.5779 - accuracy: 0.6925 - val_loss: 0.5659 - val_accuracy: 0.7033\n",
            "Epoch 12/15\n",
            "246/246 [==============================] - 11s 45ms/step - loss: 0.5693 - accuracy: 0.6982 - val_loss: 0.5579 - val_accuracy: 0.7144\n",
            "Epoch 13/15\n",
            "246/246 [==============================] - 11s 44ms/step - loss: 0.5579 - accuracy: 0.7160 - val_loss: 0.5577 - val_accuracy: 0.7156\n",
            "Epoch 14/15\n",
            "246/246 [==============================] - 11s 44ms/step - loss: 0.5550 - accuracy: 0.7120 - val_loss: 0.5525 - val_accuracy: 0.7174\n",
            "Epoch 15/15\n",
            "246/246 [==============================] - 11s 44ms/step - loss: 0.5411 - accuracy: 0.7204 - val_loss: 0.5497 - val_accuracy: 0.7185\n",
            "5\n",
            "Epoch 1/15\n",
            "246/246 [==============================] - 21s 63ms/step - loss: 0.6895 - accuracy: 0.5690 - val_loss: 0.6854 - val_accuracy: 0.5662\n",
            "Epoch 2/15\n",
            "246/246 [==============================] - 11s 45ms/step - loss: 0.6821 - accuracy: 0.5718 - val_loss: 0.6845 - val_accuracy: 0.5662\n",
            "Epoch 3/15\n",
            "246/246 [==============================] - 11s 45ms/step - loss: 0.6823 - accuracy: 0.5718 - val_loss: 0.6837 - val_accuracy: 0.5662\n",
            "Epoch 4/15\n",
            "246/246 [==============================] - 11s 45ms/step - loss: 0.6820 - accuracy: 0.5718 - val_loss: 0.6836 - val_accuracy: 0.5662\n",
            "Epoch 5/15\n",
            "246/246 [==============================] - 11s 45ms/step - loss: 0.6814 - accuracy: 0.5718 - val_loss: 0.6831 - val_accuracy: 0.5662\n",
            "Epoch 6/15\n",
            "246/246 [==============================] - 11s 44ms/step - loss: 0.6809 - accuracy: 0.5718 - val_loss: 0.6827 - val_accuracy: 0.5662\n",
            "Epoch 7/15\n",
            "246/246 [==============================] - 11s 45ms/step - loss: 0.6805 - accuracy: 0.5720 - val_loss: 0.6822 - val_accuracy: 0.5662\n",
            "Epoch 8/15\n",
            "246/246 [==============================] - 11s 45ms/step - loss: 0.6807 - accuracy: 0.5722 - val_loss: 0.6818 - val_accuracy: 0.5662\n",
            "Epoch 9/15\n",
            "246/246 [==============================] - 11s 45ms/step - loss: 0.6789 - accuracy: 0.5718 - val_loss: 0.6809 - val_accuracy: 0.5662\n",
            "Epoch 10/15\n",
            "246/246 [==============================] - 11s 45ms/step - loss: 0.6789 - accuracy: 0.5744 - val_loss: 0.6801 - val_accuracy: 0.5662\n",
            "Epoch 11/15\n",
            "246/246 [==============================] - 11s 45ms/step - loss: 0.6787 - accuracy: 0.5733 - val_loss: 0.6795 - val_accuracy: 0.5662\n",
            "Epoch 12/15\n",
            "246/246 [==============================] - 11s 45ms/step - loss: 0.6773 - accuracy: 0.5779 - val_loss: 0.6784 - val_accuracy: 0.5663\n",
            "Epoch 13/15\n",
            "246/246 [==============================] - 11s 45ms/step - loss: 0.6756 - accuracy: 0.5763 - val_loss: 0.6776 - val_accuracy: 0.5669\n",
            "Epoch 14/15\n",
            "246/246 [==============================] - 11s 45ms/step - loss: 0.6759 - accuracy: 0.5781 - val_loss: 0.6766 - val_accuracy: 0.5671\n",
            "Epoch 15/15\n",
            "246/246 [==============================] - 11s 45ms/step - loss: 0.6761 - accuracy: 0.5720 - val_loss: 0.6763 - val_accuracy: 0.5668\n",
            "6\n",
            "Epoch 1/15\n",
            "246/246 [==============================] - 23s 66ms/step - loss: 0.6929 - accuracy: 0.5587 - val_loss: 0.6927 - val_accuracy: 0.5662\n",
            "Epoch 2/15\n",
            "246/246 [==============================] - 11s 45ms/step - loss: 0.6924 - accuracy: 0.5718 - val_loss: 0.6922 - val_accuracy: 0.5662\n",
            "Epoch 3/15\n",
            "246/246 [==============================] - 11s 45ms/step - loss: 0.6919 - accuracy: 0.5718 - val_loss: 0.6917 - val_accuracy: 0.5662\n",
            "Epoch 4/15\n",
            "246/246 [==============================] - 11s 45ms/step - loss: 0.6912 - accuracy: 0.5718 - val_loss: 0.6910 - val_accuracy: 0.5662\n",
            "Epoch 5/15\n",
            "246/246 [==============================] - 11s 45ms/step - loss: 0.6904 - accuracy: 0.5718 - val_loss: 0.6902 - val_accuracy: 0.5662\n",
            "Epoch 6/15\n",
            "246/246 [==============================] - 11s 45ms/step - loss: 0.6894 - accuracy: 0.5718 - val_loss: 0.6892 - val_accuracy: 0.5662\n",
            "Epoch 7/15\n",
            "246/246 [==============================] - 11s 45ms/step - loss: 0.6883 - accuracy: 0.5718 - val_loss: 0.6881 - val_accuracy: 0.5662\n",
            "Epoch 8/15\n",
            "246/246 [==============================] - 11s 45ms/step - loss: 0.6871 - accuracy: 0.5718 - val_loss: 0.6871 - val_accuracy: 0.5662\n",
            "Epoch 9/15\n",
            "246/246 [==============================] - 11s 45ms/step - loss: 0.6858 - accuracy: 0.5718 - val_loss: 0.6861 - val_accuracy: 0.5662\n",
            "Epoch 10/15\n",
            "246/246 [==============================] - 11s 45ms/step - loss: 0.6846 - accuracy: 0.5718 - val_loss: 0.6852 - val_accuracy: 0.5662\n",
            "Epoch 11/15\n",
            "246/246 [==============================] - 11s 45ms/step - loss: 0.6837 - accuracy: 0.5718 - val_loss: 0.6846 - val_accuracy: 0.5662\n",
            "Epoch 12/15\n",
            "246/246 [==============================] - 11s 44ms/step - loss: 0.6833 - accuracy: 0.5718 - val_loss: 0.6842 - val_accuracy: 0.5662\n",
            "Epoch 13/15\n",
            "246/246 [==============================] - 11s 45ms/step - loss: 0.6829 - accuracy: 0.5718 - val_loss: 0.6840 - val_accuracy: 0.5662\n",
            "Epoch 14/15\n",
            "246/246 [==============================] - 11s 44ms/step - loss: 0.6825 - accuracy: 0.5718 - val_loss: 0.6839 - val_accuracy: 0.5662\n",
            "Epoch 15/15\n",
            "246/246 [==============================] - 11s 45ms/step - loss: 0.6825 - accuracy: 0.5718 - val_loss: 0.6838 - val_accuracy: 0.5662\n"
          ]
        }
      ]
    },
    {
      "cell_type": "markdown",
      "metadata": {
        "id": "q3JoeLOkYznm"
      },
      "source": [
        "# Varying Learning Rate Plots"
      ]
    },
    {
      "cell_type": "code",
      "metadata": {
        "id": "FKpMWla7Y5x4",
        "colab": {
          "base_uri": "https://localhost:8080/",
          "height": 298
        },
        "outputId": "eab7d7e7-2ca2-4d22-ea20-f810420c5725"
      },
      "source": [
        "plt.plot(np.log10(np.array(rates)),final_val_losses,'ro-',label=\"final validation loss\")\n",
        "plt.plot(np.log10(np.array(rates)),final_val_accs,'bo-',label='final validation accuracy')\n",
        "plt.title(\"validation accuracy and validation loss as a function of learning rate\")\n",
        "plt.legend()\n",
        "plt.show()\n",
        "\n",
        "bestrate = rates[int(np.where(final_val_losses==np.min(final_val_losses))[0])]\n",
        "\n",
        "print(bestrate)"
      ],
      "execution_count": null,
      "outputs": [
        {
          "output_type": "display_data",
          "data": {
            "image/png": "[encoded data removed]",
            "text/plain": [
              "<Figure size 432x288 with 1 Axes>"
            ]
          },
          "metadata": {
            "needs_background": "light"
          }
        },
        {
          "output_type": "stream",
          "name": "stdout",
          "text": [
            "0.001\n"
          ]
        }
      ]
    },
    {
      "cell_type": "markdown",
      "metadata": {
        "id": "m1j6Sz7zgtvo"
      },
      "source": [
        "# Final Model behaviour\n"
      ]
    },
    {
      "cell_type": "code",
      "metadata": {
        "id": "gu8y0-MBgyQr",
        "colab": {
          "base_uri": "https://localhost:8080/"
        },
        "outputId": "85b34915-3e77-4d82-e546-2b4a00605582"
      },
      "source": [
        "model = buildModel_varyparams(MAX_LEN,dropoutval=bestdropout,activation_func=best_activation,learningrate=bestrate,num_neurons1=bestnumneurons1, num_neurons2=bestnumneurons2)\n",
        "history = model.fit(x_train,y_train,epochs=15,validation_split=bestsplit) \n",
        "\n",
        "plt.plot(history.history['accuracy'],'ro-')\n",
        "plt.plot(history.history['val_accuracy'],'bo-')\n",
        "plt.title('Model Classification Accuracy')\n",
        "plt.ylabel('Accuracy')\n",
        "plt.xlabel('Epoch')\n",
        "plt.legend(['Training', 'Validation'], loc='upper left')\n",
        "plt.show()\n",
        "\n",
        "# summarize history for loss\n",
        "plt.plot(history.history['loss'],'ro-')\n",
        "plt.plot(history.history['val_loss'],'bo-')\n",
        "plt.title('Model Loss')\n",
        "plt.ylabel('Loss')\n",
        "plt.xlabel('Epoch')\n",
        "plt.legend(['Training', 'Validation'], loc='upper left')\n",
        "plt.show()"
      ],
      "execution_count": null,
      "outputs": [
        {
          "output_type": "stream",
          "name": "stdout",
          "text": [
            "Epoch 1/15\n",
            "246/246 [==============================] - 24s 72ms/step - loss: 0.6843 - accuracy: 0.5713 - val_loss: 0.6826 - val_accuracy: 0.5664\n",
            "Epoch 2/15\n",
            "246/246 [==============================] - 11s 44ms/step - loss: 0.6425 - accuracy: 0.6230 - val_loss: 0.5752 - val_accuracy: 0.6966\n",
            "Epoch 3/15\n",
            "246/246 [==============================] - 11s 44ms/step - loss: 0.5794 - accuracy: 0.6960 - val_loss: 0.5615 - val_accuracy: 0.7050\n",
            "Epoch 4/15\n",
            "246/246 [==============================] - 11s 45ms/step - loss: 0.5408 - accuracy: 0.7259 - val_loss: 0.5542 - val_accuracy: 0.7242\n",
            "Epoch 5/15\n",
            "246/246 [==============================] - 11s 45ms/step - loss: 0.5180 - accuracy: 0.7487 - val_loss: 0.5484 - val_accuracy: 0.7262\n",
            "Epoch 6/15\n",
            "246/246 [==============================] - 11s 44ms/step - loss: 0.5002 - accuracy: 0.7585 - val_loss: 0.5374 - val_accuracy: 0.7334\n",
            "Epoch 7/15\n",
            "246/246 [==============================] - 11s 45ms/step - loss: 0.4814 - accuracy: 0.7716 - val_loss: 0.5404 - val_accuracy: 0.7370\n",
            "Epoch 8/15\n",
            "246/246 [==============================] - 11s 44ms/step - loss: 0.4696 - accuracy: 0.7824 - val_loss: 0.5391 - val_accuracy: 0.7312\n",
            "Epoch 9/15\n",
            "246/246 [==============================] - 11s 43ms/step - loss: 0.4661 - accuracy: 0.7832 - val_loss: 0.5568 - val_accuracy: 0.7356\n",
            "Epoch 10/15\n",
            "246/246 [==============================] - 11s 44ms/step - loss: 0.4485 - accuracy: 0.7880 - val_loss: 0.5428 - val_accuracy: 0.7353\n",
            "Epoch 11/15\n",
            "246/246 [==============================] - 11s 43ms/step - loss: 0.4337 - accuracy: 0.8053 - val_loss: 0.5348 - val_accuracy: 0.7374\n",
            "Epoch 12/15\n",
            "246/246 [==============================] - 11s 44ms/step - loss: 0.4313 - accuracy: 0.8070 - val_loss: 0.5390 - val_accuracy: 0.7379\n",
            "Epoch 13/15\n",
            "246/246 [==============================] - 11s 44ms/step - loss: 0.4253 - accuracy: 0.8058 - val_loss: 0.5540 - val_accuracy: 0.7377\n",
            "Epoch 14/15\n",
            "246/246 [==============================] - 11s 44ms/step - loss: 0.4170 - accuracy: 0.8105 - val_loss: 0.5478 - val_accuracy: 0.7331\n",
            "Epoch 15/15\n",
            "246/246 [==============================] - 11s 44ms/step - loss: 0.4019 - accuracy: 0.8209 - val_loss: 0.5369 - val_accuracy: 0.7356\n"
          ]
        },
        {
          "output_type": "display_data",
          "data": {
            "image/png": "[encoded data removed]",
            "text/plain": [
              "<Figure size 432x288 with 1 Axes>"
            ]
          },
          "metadata": {
            "needs_background": "light"
          }
        },
        {
          "output_type": "display_data",
          "data": {
            "image/png": "[encoded data removed]",
            "text/plain": [
              "<Figure size 432x288 with 1 Axes>"
            ]
          },
          "metadata": {
            "needs_background": "light"
          }
        }
      ]
    },
    {
      "cell_type": "markdown",
      "metadata": {
        "id": "VT9GHgNoSqk7"
      },
      "source": [
        "# Final Test\n",
        "Testing the optimized model using the test set"
      ]
    },
    {
      "cell_type": "code",
      "metadata": {
        "id": "DocSS9eGSqk8",
        "colab": {
          "base_uri": "https://localhost:8080/"
        },
        "outputId": "710bf395-c939-4493-ee4f-5d3663ef6937"
      },
      "source": [
        "#y_pred = model.predict_classes(x_test) # yash: changed from predict_classes to the line below this comment\n",
        "model = buildModel_varyparams(MAX_LEN,dropoutval=bestdropout,activation_func=best_activation,learningrate=bestrate,num_neurons1=bestnumneurons1, num_neurons2=bestnumneurons2)\n",
        "history = model.fit(x_train,y_train,epochs=15,validation_split=bestsplit) \n",
        "\n",
        "predictions=model.predict(x_test)\n",
        "\n",
        "for i in range(0,len(predictions)):\n",
        "  if predictions[i]>0.5:\n",
        "\n",
        "      predictions[i]=1\n",
        "  else:\n",
        "    predictions[i]=0\n",
        "y_pred= predictions\n",
        "print(y_pred)\n",
        "\n",
        "accuracy_sc = round(accuracy_score(y_pred=y_pred,y_true=y_test)*100,2)\n",
        "conf_matrix = confusion_matrix(y_pred=y_pred,y_true=y_test)\n",
        "\n",
        "\n",
        "print(\"Accuracy score is {}% \".format(accuracy_sc))\n",
        "\n",
        "plt.subplots()\n",
        "sns.heatmap(conf_matrix,annot=True,linewidths=1.5,fmt=\".1f\")\n",
        "plt.xlabel(\"Prediction\")\n",
        "plt.ylabel(\"Actual\")\n",
        "plt.show()"
      ],
      "execution_count": null,
      "outputs": [
        {
          "output_type": "stream",
          "name": "stdout",
          "text": [
            "Epoch 1/15\n",
            "246/246 [==============================] - 21s 61ms/step - loss: 0.6845 - accuracy: 0.5716 - val_loss: 0.6590 - val_accuracy: 0.6228\n",
            "Epoch 2/15\n",
            "246/246 [==============================] - 11s 44ms/step - loss: 0.6311 - accuracy: 0.6380 - val_loss: 0.5790 - val_accuracy: 0.6904\n",
            "Epoch 3/15\n",
            "246/246 [==============================] - 11s 44ms/step - loss: 0.5680 - accuracy: 0.7111 - val_loss: 0.5560 - val_accuracy: 0.7127\n",
            "Epoch 4/15\n",
            "246/246 [==============================] - 11s 44ms/step - loss: 0.5377 - accuracy: 0.7313 - val_loss: 0.5513 - val_accuracy: 0.7294\n",
            "Epoch 5/15\n",
            "246/246 [==============================] - 11s 43ms/step - loss: 0.5137 - accuracy: 0.7510 - val_loss: 0.5339 - val_accuracy: 0.7307\n",
            "Epoch 6/15\n",
            "246/246 [==============================] - 11s 44ms/step - loss: 0.4937 - accuracy: 0.7651 - val_loss: 0.5513 - val_accuracy: 0.7327\n",
            "Epoch 7/15\n",
            "246/246 [==============================] - 11s 44ms/step - loss: 0.4820 - accuracy: 0.7685 - val_loss: 0.5597 - val_accuracy: 0.7337\n",
            "Epoch 8/15\n",
            "246/246 [==============================] - 11s 44ms/step - loss: 0.4676 - accuracy: 0.7805 - val_loss: 0.5397 - val_accuracy: 0.7325\n",
            "Epoch 9/15\n",
            "246/246 [==============================] - 11s 44ms/step - loss: 0.4634 - accuracy: 0.7846 - val_loss: 0.5616 - val_accuracy: 0.7353\n",
            "Epoch 10/15\n",
            "246/246 [==============================] - 11s 44ms/step - loss: 0.4430 - accuracy: 0.7970 - val_loss: 0.5425 - val_accuracy: 0.7354\n",
            "Epoch 11/15\n",
            "246/246 [==============================] - 11s 44ms/step - loss: 0.4334 - accuracy: 0.8032 - val_loss: 0.5297 - val_accuracy: 0.7359\n",
            "Epoch 12/15\n",
            "246/246 [==============================] - 11s 44ms/step - loss: 0.4262 - accuracy: 0.8078 - val_loss: 0.5413 - val_accuracy: 0.7327\n",
            "Epoch 13/15\n",
            "246/246 [==============================] - 11s 44ms/step - loss: 0.4240 - accuracy: 0.8070 - val_loss: 0.5615 - val_accuracy: 0.7339\n",
            "Epoch 14/15\n",
            "246/246 [==============================] - 11s 44ms/step - loss: 0.4159 - accuracy: 0.8134 - val_loss: 0.5421 - val_accuracy: 0.7346\n",
            "Epoch 15/15\n",
            "246/246 [==============================] - 11s 44ms/step - loss: 0.4049 - accuracy: 0.8157 - val_loss: 0.5366 - val_accuracy: 0.7336\n",
            "[[0.]\n",
            " [0.]\n",
            " [1.]\n",
            " ...\n",
            " [1.]\n",
            " [1.]\n",
            " [1.]]\n",
            "Accuracy score is 73.26% \n"
          ]
        },
        {
          "output_type": "display_data",
          "data": {
            "image/png": "[encoded data removed]",
            "text/plain": [
              "<Figure size 432x288 with 2 Axes>"
            ]
          },
          "metadata": {
            "needs_background": "light"
          }
        }
      ]
    }
  ]
}